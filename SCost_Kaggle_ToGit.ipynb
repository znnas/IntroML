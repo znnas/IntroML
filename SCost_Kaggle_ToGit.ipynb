{
 "cells": [
  {
   "cell_type": "markdown",
   "metadata": {},
   "source": [
    "### Стоимость жилья в объявлении"
   ]
  },
  {
   "cell_type": "code",
   "execution_count": 35,
   "metadata": {},
   "outputs": [],
   "source": [
    "import numpy\n",
    "import pandas\n",
    "import sklearn.ensemble\n",
    "\n",
    "from sklearn.metrics import mean_absolute_error as MAE\n",
    "from sklearn.model_selection import cross_val_score\n",
    "from sklearn.model_selection import GridSearchCV"
   ]
  },
  {
   "cell_type": "markdown",
   "metadata": {},
   "source": [
    "Добавим в базовую попытку поле с датой:"
   ]
  },
  {
   "cell_type": "code",
   "execution_count": 36,
   "metadata": {},
   "outputs": [],
   "source": [
    "def date_to_num(date_str):\n",
    "    yy, mm, dd = map(int, date_str.split('-'))\n",
    "    return 365*(yy-2011)+30*mm+dd"
   ]
  },
  {
   "cell_type": "code",
   "execution_count": 37,
   "metadata": {},
   "outputs": [
    {
     "data": {
      "text/html": [
       "<div>\n",
       "<style scoped>\n",
       "    .dataframe tbody tr th:only-of-type {\n",
       "        vertical-align: middle;\n",
       "    }\n",
       "\n",
       "    .dataframe tbody tr th {\n",
       "        vertical-align: top;\n",
       "    }\n",
       "\n",
       "    .dataframe thead th {\n",
       "        text-align: right;\n",
       "    }\n",
       "</style>\n",
       "<table border=\"1\" class=\"dataframe\">\n",
       "  <thead>\n",
       "    <tr style=\"text-align: right;\">\n",
       "      <th></th>\n",
       "      <th>id</th>\n",
       "      <th>date</th>\n",
       "      <th>street_id</th>\n",
       "      <th>build_tech</th>\n",
       "      <th>floor</th>\n",
       "      <th>area</th>\n",
       "      <th>rooms</th>\n",
       "      <th>balcon</th>\n",
       "      <th>metro_dist</th>\n",
       "      <th>g_lift</th>\n",
       "      <th>...</th>\n",
       "      <th>kw6</th>\n",
       "      <th>kw7</th>\n",
       "      <th>kw8</th>\n",
       "      <th>kw9</th>\n",
       "      <th>kw10</th>\n",
       "      <th>kw11</th>\n",
       "      <th>kw12</th>\n",
       "      <th>kw13</th>\n",
       "      <th>price</th>\n",
       "      <th>mydate</th>\n",
       "    </tr>\n",
       "  </thead>\n",
       "  <tbody>\n",
       "    <tr>\n",
       "      <th>0</th>\n",
       "      <td>0</td>\n",
       "      <td>2011-01-01</td>\n",
       "      <td>531</td>\n",
       "      <td>NaN</td>\n",
       "      <td>12</td>\n",
       "      <td>35</td>\n",
       "      <td>1</td>\n",
       "      <td>1</td>\n",
       "      <td>25.0</td>\n",
       "      <td>NaN</td>\n",
       "      <td>...</td>\n",
       "      <td>0</td>\n",
       "      <td>0</td>\n",
       "      <td>0</td>\n",
       "      <td>0</td>\n",
       "      <td>0</td>\n",
       "      <td>0</td>\n",
       "      <td>0</td>\n",
       "      <td>0</td>\n",
       "      <td>3721000</td>\n",
       "      <td>31</td>\n",
       "    </tr>\n",
       "    <tr>\n",
       "      <th>1</th>\n",
       "      <td>1</td>\n",
       "      <td>2011-01-01</td>\n",
       "      <td>385</td>\n",
       "      <td>2.0</td>\n",
       "      <td>15</td>\n",
       "      <td>46</td>\n",
       "      <td>1</td>\n",
       "      <td>2</td>\n",
       "      <td>15.0</td>\n",
       "      <td>1.0</td>\n",
       "      <td>...</td>\n",
       "      <td>0</td>\n",
       "      <td>0</td>\n",
       "      <td>0</td>\n",
       "      <td>0</td>\n",
       "      <td>0</td>\n",
       "      <td>0</td>\n",
       "      <td>0</td>\n",
       "      <td>0</td>\n",
       "      <td>7431000</td>\n",
       "      <td>31</td>\n",
       "    </tr>\n",
       "    <tr>\n",
       "      <th>2</th>\n",
       "      <td>2</td>\n",
       "      <td>2011-01-01</td>\n",
       "      <td>51</td>\n",
       "      <td>0.0</td>\n",
       "      <td>1</td>\n",
       "      <td>53</td>\n",
       "      <td>3</td>\n",
       "      <td>0</td>\n",
       "      <td>30.0</td>\n",
       "      <td>0.0</td>\n",
       "      <td>...</td>\n",
       "      <td>0</td>\n",
       "      <td>0</td>\n",
       "      <td>0</td>\n",
       "      <td>0</td>\n",
       "      <td>0</td>\n",
       "      <td>0</td>\n",
       "      <td>0</td>\n",
       "      <td>0</td>\n",
       "      <td>3081000</td>\n",
       "      <td>31</td>\n",
       "    </tr>\n",
       "  </tbody>\n",
       "</table>\n",
       "<p>3 rows × 26 columns</p>\n",
       "</div>"
      ],
      "text/plain": [
       "   id        date  street_id  build_tech  floor  area  rooms  balcon  \\\n",
       "0   0  2011-01-01        531         NaN     12    35      1       1   \n",
       "1   1  2011-01-01        385         2.0     15    46      1       2   \n",
       "2   2  2011-01-01         51         0.0      1    53      3       0   \n",
       "\n",
       "   metro_dist  g_lift   ...    kw6  kw7  kw8  kw9  kw10  kw11  kw12  kw13  \\\n",
       "0        25.0     NaN   ...      0    0    0    0     0     0     0     0   \n",
       "1        15.0     1.0   ...      0    0    0    0     0     0     0     0   \n",
       "2        30.0     0.0   ...      0    0    0    0     0     0     0     0   \n",
       "\n",
       "     price  mydate  \n",
       "0  3721000      31  \n",
       "1  7431000      31  \n",
       "2  3081000      31  \n",
       "\n",
       "[3 rows x 26 columns]"
      ]
     },
     "execution_count": 37,
     "metadata": {},
     "output_type": "execute_result"
    }
   ],
   "source": [
    "train = pandas.read_csv('Train.csv')\n",
    "test = pandas.read_csv('Test.csv')\n",
    "\n",
    "train['mydate']=train['date'].apply(date_to_num)\n",
    "test['mydate']=test['date'].apply(date_to_num)\n",
    "\n",
    "train.head(3)"
   ]
  },
  {
   "cell_type": "code",
   "execution_count": 38,
   "metadata": {},
   "outputs": [],
   "source": [
    "train = train.replace(numpy.nan, -1)\n",
    "test = test.replace(numpy.nan, -1)\n",
    "\n",
    "COLUMNS = ['mydate','street_id', 'build_tech', 'floor', \n",
    "           'area', 'rooms', 'balcon', 'metro_dist', \n",
    "           'g_lift', 'n_photos', 'kw1', 'kw2', 'kw3', 'kw4', \n",
    "           'kw5', 'kw6', 'kw7', 'kw8', 'kw9', 'kw10', 'kw11', 'kw12', 'kw13']\n",
    "\n",
    "y = train['price'].values\n",
    "X = train[COLUMNS].values\n",
    "Xt = test[COLUMNS].values\n",
    "\n",
    "mdl = sklearn.ensemble.RandomForestRegressor(n_estimators=100)\n",
    "mdl.fit(X, y)\n",
    "\n",
    "preds = mdl.predict(Xt)\n",
    "\n",
    "test['price'] = preds\n",
    "\n",
    "test[['id', 'price']].to_csv('sub4.csv', index=False)"
   ]
  },
  {
   "cell_type": "markdown",
   "metadata": {},
   "source": [
    "Будем использовать перекрёстную проверку (cross-validation), \n",
    "в качестве метрики возьмём MAE."
   ]
  },
  {
   "cell_type": "code",
   "execution_count": 39,
   "metadata": {},
   "outputs": [
    {
     "name": "stdout",
     "output_type": "stream",
     "text": [
      "[-1474577.99141786 -1458585.633275   -1550940.807275   -1662591.97554107\n",
      " -1754981.84681905]\n"
     ]
    }
   ],
   "source": [
    "print(cross_val_score(mdl, X, y, cv=5, scoring='neg_mean_absolute_error'))"
   ]
  },
  {
   "cell_type": "markdown",
   "metadata": {},
   "source": [
    "Дальше увидим, что вариант с датой значительно хуже, чем без неё. Вспомним про то, что её надо учитывать, в самом конце, деревья учим без неё, так как леса не смогут хорошо предсказать \"будущие\" значения."
   ]
  },
  {
   "cell_type": "code",
   "execution_count": 40,
   "metadata": {},
   "outputs": [],
   "source": [
    "COLUMNS = ['street_id', 'build_tech', 'floor', \n",
    "           'area', 'rooms', 'balcon', 'metro_dist', \n",
    "           'g_lift', 'n_photos', 'kw1', 'kw2', 'kw3', 'kw4', \n",
    "           'kw5', 'kw6', 'kw7', 'kw8', 'kw9', 'kw10', 'kw11', 'kw12', 'kw13']\n",
    "\n",
    "y = train['price'].values\n",
    "X = train[COLUMNS].values\n",
    "Xt = test[COLUMNS].values\n",
    "\n",
    "mdl = sklearn.ensemble.RandomForestRegressor(n_estimators=100)\n",
    "mdl.fit(X, y)\n",
    "\n",
    "preds = mdl.predict(Xt)\n",
    "\n",
    "test['price'] = preds\n",
    "\n",
    "test[['id', 'price']].to_csv('sub3.csv', index=False)"
   ]
  },
  {
   "cell_type": "code",
   "execution_count": 41,
   "metadata": {},
   "outputs": [
    {
     "name": "stdout",
     "output_type": "stream",
     "text": [
      "[-1437677.86558611 -1426435.3643     -1459695.06215238 -1528786.78007738\n",
      " -1604854.38407262]\n"
     ]
    }
   ],
   "source": [
    "print(cross_val_score(mdl, X, y, cv=5, scoring='neg_mean_absolute_error'))"
   ]
  },
  {
   "cell_type": "markdown",
   "metadata": {},
   "source": [
    "Попробуем использовать GradientBoostingRegressor. Кажется, что он должен работать лучше, но его нужно дольше настраивать."
   ]
  },
  {
   "cell_type": "code",
   "execution_count": 42,
   "metadata": {},
   "outputs": [
    {
     "name": "stdout",
     "output_type": "stream",
     "text": [
      "[-1581218.42942054 -1556121.85692362 -1591772.34977891 -1666663.39865435\n",
      " -1732268.39101562]\n"
     ]
    }
   ],
   "source": [
    "mdlBo = sklearn.ensemble.GradientBoostingRegressor(n_estimators=100)\n",
    "#mdlBo.fit(X, y)\n",
    "print(cross_val_score(mdlBo, X, y, cv=5, scoring='neg_mean_absolute_error'))"
   ]
  },
  {
   "cell_type": "code",
   "execution_count": 43,
   "metadata": {},
   "outputs": [
    {
     "name": "stdout",
     "output_type": "stream",
     "text": [
      "[-1475526.52153864 -1447280.87801793 -1477251.27859328 -1562976.09434877\n",
      " -1637190.54547976]\n"
     ]
    }
   ],
   "source": [
    "mdlBo = sklearn.ensemble.GradientBoostingRegressor(n_estimators=200)\n",
    "#mdlBo.fit(X, y)\n",
    "print(cross_val_score(mdlBo, X, y, cv=5, scoring='neg_mean_absolute_error'))"
   ]
  },
  {
   "cell_type": "markdown",
   "metadata": {},
   "source": [
    "### RandomForestRegressor"
   ]
  },
  {
   "cell_type": "markdown",
   "metadata": {},
   "source": [
    "Попробуем подбирать параметры случайного леса. Снизим количество деревьев, чтобы сначала понять - какие параметры должны быть непосредственно у дерева. Вообще говоря, GridSearchCV в поле param_grid допускает перебор сразу по нескольким параметрам, но это долго."
   ]
  },
  {
   "cell_type": "code",
   "execution_count": 45,
   "metadata": {},
   "outputs": [],
   "source": [
    "mdl_5 = sklearn.ensemble.RandomForestRegressor(n_estimators=5)\n",
    "gs_5 = GridSearchCV(mdl_5,\n",
    "                  param_grid={'min_samples_split': range(2, 203, 10)},\n",
    "                  scoring='neg_mean_absolute_error', cv=5, return_train_score=True, n_jobs=-1)\n",
    "gs_5.fit(X, y)\n",
    "results5 = gs_5.cv_results_"
   ]
  },
  {
   "cell_type": "code",
   "execution_count": 63,
   "metadata": {},
   "outputs": [
    {
     "data": {
      "text/plain": [
       "{'min_samples_split': 22}"
      ]
     },
     "execution_count": 63,
     "metadata": {},
     "output_type": "execute_result"
    }
   ],
   "source": [
    "res5=numpy.array(results5['mean_test_score'])\n",
    "results5['params'][res5.argmax()]"
   ]
  },
  {
   "cell_type": "code",
   "execution_count": null,
   "metadata": {},
   "outputs": [],
   "source": [
    "results5['mean_test_score']"
   ]
  },
  {
   "cell_type": "code",
   "execution_count": 64,
   "metadata": {},
   "outputs": [],
   "source": [
    "mdl_20 = sklearn.ensemble.RandomForestRegressor(n_estimators=20)\n",
    "gs = GridSearchCV(mdl_20,\n",
    "                  param_grid={'min_samples_split': range(2, 203, 10)},\n",
    "                  scoring='neg_mean_absolute_error', cv=5, return_train_score=True, n_jobs=-1)\n",
    "gs.fit(X, y)\n",
    "results = gs.cv_results_"
   ]
  },
  {
   "cell_type": "code",
   "execution_count": 65,
   "metadata": {},
   "outputs": [
    {
     "data": {
      "text/plain": [
       "{'min_samples_split': 12}"
      ]
     },
     "execution_count": 65,
     "metadata": {},
     "output_type": "execute_result"
    }
   ],
   "source": [
    "res=numpy.array(results['mean_test_score'])\n",
    "results['params'][res.argmax()]"
   ]
  },
  {
   "cell_type": "code",
   "execution_count": 66,
   "metadata": {},
   "outputs": [
    {
     "data": {
      "text/plain": [
       "array([-1526864.593925  , -1516648.40846385, -1530018.77870938,\n",
       "       -1548471.30708088, -1560523.22263883, -1566705.35413327,\n",
       "       -1572940.00169816, -1580275.1109    , -1588712.96274547,\n",
       "       -1592071.8222034 , -1598754.372813  , -1600723.43450759,\n",
       "       -1603952.04137126, -1607691.88380442, -1609681.45206047,\n",
       "       -1612140.34025464, -1616644.87507357, -1618141.7811605 ,\n",
       "       -1620358.05028869, -1621268.98631612, -1623576.15252263])"
      ]
     },
     "execution_count": 66,
     "metadata": {},
     "output_type": "execute_result"
    }
   ],
   "source": [
    "results['mean_test_score']"
   ]
  },
  {
   "cell_type": "markdown",
   "metadata": {},
   "source": [
    "Кажется, что большие значения min_samples_split рассматривать не нужно. Попробуем взять небольшой диапазон по этому полю и подобрать количество деревьев."
   ]
  },
  {
   "cell_type": "code",
   "execution_count": 69,
   "metadata": {},
   "outputs": [],
   "source": [
    "mdl_fit = sklearn.ensemble.RandomForestRegressor()\n",
    "gs_fit = GridSearchCV(mdl_fit,\n",
    "                  param_grid={'min_samples_split': range(6, 30, 3), 'n_estimators' : range(20,61,20)},\n",
    "                  scoring='neg_mean_absolute_error', cv=5, return_train_score=True, n_jobs=-1)\n",
    "gs_fit.fit(X, y)\n",
    "results = gs_fit.cv_results_"
   ]
  },
  {
   "cell_type": "code",
   "execution_count": 70,
   "metadata": {},
   "outputs": [
    {
     "data": {
      "text/plain": [
       "{'mean_fit_time': array([10.11106386, 19.22858372, 29.28118205,  9.23312879, 18.79383011,\n",
       "        27.88410311,  9.00480957, 18.42976685, 27.2712594 ,  8.93586702,\n",
       "        17.86532092, 26.94931393,  8.96953535, 17.49630766, 26.39892464,\n",
       "         8.68073401, 17.32722392, 26.67963414,  8.96796775, 17.70002899,\n",
       "        26.16119566,  8.84258404, 17.58743863, 23.43209062]),\n",
       " 'std_fit_time': array([0.35595396, 0.19083626, 0.15047755, 0.13115573, 0.13510989,\n",
       "        0.2036046 , 0.07650473, 0.24890601, 0.22010566, 0.14011256,\n",
       "        0.13615736, 0.15918823, 0.07054006, 0.14638565, 0.21225254,\n",
       "        0.20423167, 0.15577178, 0.13309085, 0.30140109, 0.16915251,\n",
       "        0.24781908, 0.21262715, 0.0582894 , 3.98324147]),\n",
       " 'mean_score_time': array([0.16017261, 0.32493191, 0.48647885, 0.14840474, 0.27506647,\n",
       "        0.43716164, 0.13563724, 0.25491843, 0.37300124, 0.11269803,\n",
       "        0.23740749, 0.34667258, 0.10905223, 0.22499971, 0.338695  ,\n",
       "        0.10823927, 0.22097073, 0.32852168, 0.11070499, 0.21003971,\n",
       "        0.32999835, 0.10308571, 0.20285778, 0.26944199]),\n",
       " 'std_score_time': array([0.01041436, 0.021018  , 0.04315586, 0.01607395, 0.00565685,\n",
       "        0.03547388, 0.01531044, 0.00895546, 0.005427  , 0.00383795,\n",
       "        0.01177313, 0.02052194, 0.00405781, 0.01150386, 0.01411316,\n",
       "        0.00156394, 0.03233157, 0.01489542, 0.00423113, 0.00720929,\n",
       "        0.03076149, 0.00381427, 0.0039183 , 0.04529083]),\n",
       " 'param_min_samples_split': masked_array(data=[6, 6, 6, 9, 9, 9, 12, 12, 12, 15, 15, 15, 18, 18, 18,\n",
       "                    21, 21, 21, 24, 24, 24, 27, 27, 27],\n",
       "              mask=[False, False, False, False, False, False, False, False,\n",
       "                    False, False, False, False, False, False, False, False,\n",
       "                    False, False, False, False, False, False, False, False],\n",
       "        fill_value='?',\n",
       "             dtype=object),\n",
       " 'param_n_estimators': masked_array(data=[20, 40, 60, 20, 40, 60, 20, 40, 60, 20, 40, 60, 20, 40,\n",
       "                    60, 20, 40, 60, 20, 40, 60, 20, 40, 60],\n",
       "              mask=[False, False, False, False, False, False, False, False,\n",
       "                    False, False, False, False, False, False, False, False,\n",
       "                    False, False, False, False, False, False, False, False],\n",
       "        fill_value='?',\n",
       "             dtype=object),\n",
       " 'params': [{'min_samples_split': 6, 'n_estimators': 20},\n",
       "  {'min_samples_split': 6, 'n_estimators': 40},\n",
       "  {'min_samples_split': 6, 'n_estimators': 60},\n",
       "  {'min_samples_split': 9, 'n_estimators': 20},\n",
       "  {'min_samples_split': 9, 'n_estimators': 40},\n",
       "  {'min_samples_split': 9, 'n_estimators': 60},\n",
       "  {'min_samples_split': 12, 'n_estimators': 20},\n",
       "  {'min_samples_split': 12, 'n_estimators': 40},\n",
       "  {'min_samples_split': 12, 'n_estimators': 60},\n",
       "  {'min_samples_split': 15, 'n_estimators': 20},\n",
       "  {'min_samples_split': 15, 'n_estimators': 40},\n",
       "  {'min_samples_split': 15, 'n_estimators': 60},\n",
       "  {'min_samples_split': 18, 'n_estimators': 20},\n",
       "  {'min_samples_split': 18, 'n_estimators': 40},\n",
       "  {'min_samples_split': 18, 'n_estimators': 60},\n",
       "  {'min_samples_split': 21, 'n_estimators': 20},\n",
       "  {'min_samples_split': 21, 'n_estimators': 40},\n",
       "  {'min_samples_split': 21, 'n_estimators': 60},\n",
       "  {'min_samples_split': 24, 'n_estimators': 20},\n",
       "  {'min_samples_split': 24, 'n_estimators': 40},\n",
       "  {'min_samples_split': 24, 'n_estimators': 60},\n",
       "  {'min_samples_split': 27, 'n_estimators': 20},\n",
       "  {'min_samples_split': 27, 'n_estimators': 40},\n",
       "  {'min_samples_split': 27, 'n_estimators': 60}],\n",
       " 'split0_test_score': array([-1463357.87991457, -1442553.64331453, -1439128.57706415,\n",
       "        -1452696.17955993, -1447316.26624107, -1441090.46003864,\n",
       "        -1468716.69317672, -1440090.48296076, -1445509.65685604,\n",
       "        -1458326.44570759, -1456770.59759533, -1450633.98781822,\n",
       "        -1472955.10057178, -1465719.24348966, -1458798.35345096,\n",
       "        -1473485.24888476, -1466110.23259358, -1462756.70777024,\n",
       "        -1481302.26016589, -1477397.16376404, -1478337.40705559,\n",
       "        -1485523.34347735, -1482975.0858206 , -1478916.65319872]),\n",
       " 'split1_test_score': array([-1443481.43163341, -1431624.30403466, -1417116.5464111 ,\n",
       "        -1445175.02419054, -1428360.41538701, -1424980.0467553 ,\n",
       "        -1449626.85926156, -1439741.3263378 , -1427500.57159485,\n",
       "        -1451031.4169653 , -1438777.75609675, -1438007.5268345 ,\n",
       "        -1453009.82561999, -1448631.36255502, -1442050.2142961 ,\n",
       "        -1463180.9596184 , -1453783.89881196, -1449617.91501194,\n",
       "        -1469263.73379822, -1456884.26807541, -1456580.47850886,\n",
       "        -1477486.1830499 , -1459926.24051519, -1457930.96339165]),\n",
       " 'split2_test_score': array([-1483902.69103191, -1464623.26725862, -1456626.04223339,\n",
       "        -1484932.42150455, -1470296.39506561, -1460436.42789534,\n",
       "        -1482704.91448361, -1471457.82530396, -1467090.87062192,\n",
       "        -1495538.96622853, -1474810.96110567, -1472893.04107435,\n",
       "        -1491637.61276784, -1478939.36593693, -1482583.68685247,\n",
       "        -1500442.90740996, -1490302.40873832, -1485738.43070859,\n",
       "        -1501092.82964903, -1492133.51965394, -1494250.5554684 ,\n",
       "        -1508266.75722978, -1495160.86090975, -1498586.47848472]),\n",
       " 'split3_test_score': array([-1548110.11236818, -1536452.07041603, -1527475.7233154 ,\n",
       "        -1555513.27134774, -1535297.32937027, -1533746.23381887,\n",
       "        -1553070.40178555, -1536957.37502621, -1534661.95505087,\n",
       "        -1562075.73333032, -1547380.56106743, -1548425.43849468,\n",
       "        -1562698.62723978, -1556525.45041732, -1552888.69682063,\n",
       "        -1565471.15399394, -1565196.70947977, -1561334.23442209,\n",
       "        -1576266.16730078, -1569660.95251188, -1567700.88308148,\n",
       "        -1575421.23330327, -1568091.41748985, -1571640.68191029]),\n",
       " 'split4_test_score': array([-1641168.74738121, -1613498.9497415 , -1605493.76929243,\n",
       "        -1624676.08246386, -1614866.90741881, -1609204.13203461,\n",
       "        -1625848.48438053, -1614227.1498641 , -1617794.01735276,\n",
       "        -1632080.51543148, -1623189.31472001, -1620399.01161496,\n",
       "        -1641178.31258372, -1627078.91138153, -1626511.89723232,\n",
       "        -1644585.99290827, -1633870.04133982, -1634910.5632837 ,\n",
       "        -1646122.2492875 , -1642421.90332304, -1638901.03818527,\n",
       "        -1646793.33616777, -1649309.59572648, -1642309.65172356]),\n",
       " 'mean_test_score': array([-1516004.17246586, -1497750.44695307, -1489168.13166329,\n",
       "        -1512598.59581333, -1499227.46269655, -1493891.46010855,\n",
       "        -1515993.47061759, -1500494.83189857, -1498511.41429529,\n",
       "        -1519810.61553264, -1508185.83811704, -1506071.80116734,\n",
       "        -1524295.89575662, -1515378.86675609, -1512566.5697305 ,\n",
       "        -1529433.25256307, -1521852.65819269, -1518871.57023931,\n",
       "        -1534809.44804028, -1527699.56146566, -1527154.07245992,\n",
       "        -1538698.17064562, -1531092.64009237, -1529876.88574179]),\n",
       " 'std_test_score': array([71775.54926053, 68428.49625722, 68925.32349479, 68268.12883678,\n",
       "        68157.8078339 , 68616.88272334, 65100.80127195, 67003.55029645,\n",
       "        69820.02238111, 68543.2197381 , 68318.25109163, 68806.20372363,\n",
       "        69167.06389926, 66961.31127196, 68369.52877398, 67703.57375598,\n",
       "        68062.60818547, 69729.30122078, 66940.67441969, 68894.20060122,\n",
       "        67197.86992931, 64083.83373753, 69303.9772905 , 68025.86591391]),\n",
       " 'rank_test_score': array([13,  3,  1, 10,  5,  2, 12,  6,  4, 15,  8,  7, 17, 11,  9, 20, 16,\n",
       "        14, 23, 19, 18, 24, 22, 21]),\n",
       " 'split0_train_score': array([ -798560.07662659,  -779882.62361597,  -773811.29679311,\n",
       "         -933217.23909155,  -917096.18989762,  -913448.1576759 ,\n",
       "        -1032994.93725459, -1013919.32093167, -1012238.34703093,\n",
       "        -1098945.80866536, -1092111.39557434, -1087420.01207733,\n",
       "        -1156808.52732419, -1150909.0254476 , -1143191.10777085,\n",
       "        -1203300.90822992, -1191340.14803449, -1188013.8224264 ,\n",
       "        -1236311.20337861, -1230230.51712593, -1232854.07529167,\n",
       "        -1269187.16245795, -1262527.73260733, -1259269.58461332]),\n",
       " 'split1_train_score': array([ -805664.72020728,  -787437.46949006,  -780063.1104787 ,\n",
       "         -941724.23783347,  -925966.26193362,  -923801.5550748 ,\n",
       "        -1041435.67823489, -1026589.26906899, -1021872.01872173,\n",
       "        -1111180.49997478, -1099543.38967261, -1099749.9987943 ,\n",
       "        -1164757.18502204, -1158593.82626868, -1155535.01980601,\n",
       "        -1210858.33344449, -1204802.68635859, -1200961.16620421,\n",
       "        -1249372.13072092, -1239505.60996417, -1237954.82019737,\n",
       "        -1282304.94954232, -1271431.30172064, -1269434.96368021]),\n",
       " 'split2_train_score': array([ -796244.63435814,  -777723.44449203,  -772138.51221791,\n",
       "         -931876.38535708,  -919280.40130446,  -912424.31336342,\n",
       "        -1024843.49247113, -1013029.62879647, -1010018.67519395,\n",
       "        -1101097.18214417, -1086089.10835565, -1083137.78810614,\n",
       "        -1150816.20727354, -1139848.58957082, -1140901.21841521,\n",
       "        -1198316.3367715 , -1187928.43731455, -1185010.15883822,\n",
       "        -1232084.50832257, -1220061.64799673, -1222749.51875452,\n",
       "        -1261711.1050674 , -1252302.15888696, -1251948.43127888]),\n",
       " 'split3_train_score': array([ -778653.94678472,  -768050.21609138,  -760407.94146574,\n",
       "         -915762.50261555,  -899569.45147039,  -896342.18922946,\n",
       "        -1010854.47980037,  -997158.57359779,  -992693.71812414,\n",
       "        -1082073.28776017, -1069984.31584561, -1068350.57685542,\n",
       "        -1131596.60731215, -1126311.24352365, -1120035.6516195 ,\n",
       "        -1172334.37750978, -1172232.53223779, -1165574.68769489,\n",
       "        -1214411.10807609, -1203236.18924417, -1201976.85942841,\n",
       "        -1238122.74790213, -1229962.83841363, -1230171.60862559]),\n",
       " 'split4_train_score': array([ -769035.48805356,  -749785.22246878,  -740785.05987331,\n",
       "         -890940.96618416,  -882864.39090781,  -874356.68830598,\n",
       "         -986717.35518258,  -974234.45145053,  -971490.48932978,\n",
       "        -1055946.91978351, -1045302.12717644, -1042349.21699196,\n",
       "        -1111056.61667369, -1101427.18533574, -1097377.25314226,\n",
       "        -1151197.61624032, -1146387.59599217, -1141685.72995043,\n",
       "        -1184334.63144755, -1182029.19213246, -1180132.94530154,\n",
       "        -1209545.83553928, -1211741.31044479, -1208379.64147317]),\n",
       " 'mean_train_score': array([ -789631.77320606,  -772575.79523165,  -765441.18416575,\n",
       "         -922704.26621636,  -908955.33910278,  -904074.58072991,\n",
       "        -1019369.18858871, -1004986.24876909, -1001662.64968011,\n",
       "        -1089848.7396656 , -1078606.06732493, -1076201.51856503,\n",
       "        -1143007.02872112, -1135417.9740293 , -1131408.05015077,\n",
       "        -1187201.5144392 , -1180538.27998752, -1176249.11302283,\n",
       "        -1223302.71638914, -1215012.63129269, -1215133.6437947 ,\n",
       "        -1252174.36010182, -1245593.06841467, -1243840.84593423]),\n",
       " 'std_train_score': array([13603.08464393, 12966.48347952, 13870.62878701, 17963.88042349,\n",
       "        15691.2989969 , 17260.81403094, 19189.58824748, 17989.61791431,\n",
       "        17781.38423952, 19360.36757977, 19288.58879891, 19677.97225561,\n",
       "        19367.81081692, 20174.38678947, 20486.57096104, 22179.66315051,\n",
       "        19976.54053231, 20661.17464744, 22465.65071093, 20413.59580903,\n",
       "        21405.47222611, 25701.65862496, 21861.63147706, 21923.42514742])}"
      ]
     },
     "execution_count": 70,
     "metadata": {},
     "output_type": "execute_result"
    }
   ],
   "source": [
    "results"
   ]
  },
  {
   "cell_type": "markdown",
   "metadata": {},
   "source": [
    "Нам понадобится поле 'mean_test_score' - средняя ошибка при перекрёстной проверке моделей, запущенных с одинаковыми параметрами"
   ]
  },
  {
   "cell_type": "code",
   "execution_count": 71,
   "metadata": {},
   "outputs": [
    {
     "data": {
      "text/plain": [
       "array([-1516004.17246586, -1497750.44695307, -1489168.13166329,\n",
       "       -1512598.59581333, -1499227.46269655, -1493891.46010855,\n",
       "       -1515993.47061759, -1500494.83189857, -1498511.41429529,\n",
       "       -1519810.61553264, -1508185.83811704, -1506071.80116734,\n",
       "       -1524295.89575662, -1515378.86675609, -1512566.5697305 ,\n",
       "       -1529433.25256307, -1521852.65819269, -1518871.57023931,\n",
       "       -1534809.44804028, -1527699.56146566, -1527154.07245992,\n",
       "       -1538698.17064562, -1531092.64009237, -1529876.88574179])"
      ]
     },
     "execution_count": 71,
     "metadata": {},
     "output_type": "execute_result"
    }
   ],
   "source": [
    "res=numpy.array(results['mean_test_score'])\n",
    "res"
   ]
  },
  {
   "cell_type": "code",
   "execution_count": 72,
   "metadata": {},
   "outputs": [
    {
     "data": {
      "text/plain": [
       "{'min_samples_split': 6, 'n_estimators': 60}"
      ]
     },
     "execution_count": 72,
     "metadata": {},
     "output_type": "execute_result"
    }
   ],
   "source": [
    "results['params'][res.argmax()]"
   ]
  },
  {
   "cell_type": "markdown",
   "metadata": {},
   "source": [
    "И ещё разок."
   ]
  },
  {
   "cell_type": "code",
   "execution_count": 73,
   "metadata": {},
   "outputs": [],
   "source": [
    "mdl_ok = sklearn.ensemble.RandomForestRegressor()\n",
    "gs_ok = GridSearchCV(mdl_ok,\n",
    "                  param_grid={'min_samples_split': range(2, 12, 3), 'n_estimators' : range(60,301,40)},\n",
    "                  scoring='neg_mean_absolute_error', cv=5, return_train_score=True, n_jobs=-1)\n",
    "gs_ok.fit(X, y)\n",
    "results = gs_ok.cv_results_"
   ]
  },
  {
   "cell_type": "code",
   "execution_count": 74,
   "metadata": {},
   "outputs": [
    {
     "data": {
      "text/plain": [
       "array([-1496834.85688241, -1490300.84461198, -1488803.4389994 ,\n",
       "       -1486692.02164733, -1486242.11906433, -1485745.64913138,\n",
       "       -1485515.22012964, -1491080.81365119, -1484461.01591003,\n",
       "       -1483878.29103605, -1482149.54150436, -1480860.4080909 ,\n",
       "       -1480534.68945305, -1481488.55933937, -1491726.38472405,\n",
       "       -1488432.83687904, -1485044.63352483, -1485812.90446542,\n",
       "       -1484832.55131997, -1483348.25593029, -1483787.67690194,\n",
       "       -1499228.15409366, -1493808.23038084, -1490888.93976928,\n",
       "       -1490804.73437329, -1490943.5646852 , -1489989.39092397,\n",
       "       -1489953.68906382])"
      ]
     },
     "execution_count": 74,
     "metadata": {},
     "output_type": "execute_result"
    }
   ],
   "source": [
    "res=numpy.array(results['mean_test_score'])\n",
    "res"
   ]
  },
  {
   "cell_type": "code",
   "execution_count": 75,
   "metadata": {},
   "outputs": [
    {
     "data": {
      "text/plain": [
       "{'min_samples_split': 5, 'n_estimators': 260}"
      ]
     },
     "execution_count": 75,
     "metadata": {},
     "output_type": "execute_result"
    }
   ],
   "source": [
    "results['params'][res.argmax()]"
   ]
  },
  {
   "cell_type": "code",
   "execution_count": 76,
   "metadata": {},
   "outputs": [],
   "source": [
    "preds = gs_ok.predict(Xt)\n",
    "\n",
    "test['price'] = preds\n",
    "\n",
    "test[['id', 'price']].to_csv('sub_choose.csv', index=False)"
   ]
  },
  {
   "cell_type": "markdown",
   "metadata": {},
   "source": [
    "Увеличение количества деревьев слабо улучшает результат, при том что сложность модели существенно возрастает. Продолжим работать с параметрами деревьев, а не ансамбля. Попробуем варьировать глубину дерева."
   ]
  },
  {
   "cell_type": "code",
   "execution_count": 77,
   "metadata": {},
   "outputs": [],
   "source": [
    "mdl_depth = sklearn.ensemble.RandomForestRegressor(min_samples_split=5, n_estimators=60)\n",
    "gs_depth = GridSearchCV(mdl_depth,\n",
    "                  param_grid={'max_depth' : range(100,401,50)},\n",
    "                  scoring='neg_mean_absolute_error', cv=5, return_train_score=True, n_jobs=-1)\n",
    "gs_depth.fit(X, y)\n",
    "results = gs_depth.cv_results_"
   ]
  },
  {
   "cell_type": "code",
   "execution_count": 78,
   "metadata": {},
   "outputs": [
    {
     "data": {
      "text/plain": [
       "array([-1491215.01421821, -1493457.11543578, -1490731.50526664,\n",
       "       -1490100.63372369, -1492187.83021017, -1490459.48340628,\n",
       "       -1491023.00051506])"
      ]
     },
     "execution_count": 78,
     "metadata": {},
     "output_type": "execute_result"
    }
   ],
   "source": [
    "res=numpy.array(results['mean_test_score'])\n",
    "res"
   ]
  },
  {
   "cell_type": "code",
   "execution_count": 79,
   "metadata": {},
   "outputs": [
    {
     "data": {
      "text/plain": [
       "{'max_depth': 250}"
      ]
     },
     "execution_count": 79,
     "metadata": {},
     "output_type": "execute_result"
    }
   ],
   "source": [
    "results['params'][res.argmax()]"
   ]
  },
  {
   "cell_type": "code",
   "execution_count": 86,
   "metadata": {},
   "outputs": [],
   "source": [
    "mdl_feat = sklearn.ensemble.RandomForestRegressor(min_samples_split=5, n_estimators=60, max_depth=250)\n",
    "gs_feat = GridSearchCV(mdl_feat,\n",
    "                  param_grid={'max_features' : range(20,23)},\n",
    "                  scoring='neg_mean_absolute_error', cv=5, return_train_score=True, n_jobs=-1)\n",
    "gs_feat.fit(X, y)\n",
    "results = gs_feat.cv_results_\n"
   ]
  },
  {
   "cell_type": "code",
   "execution_count": 87,
   "metadata": {},
   "outputs": [
    {
     "data": {
      "text/plain": [
       "array([-1510670.3476776 , -1501042.4058029 , -1486822.66732437])"
      ]
     },
     "execution_count": 87,
     "metadata": {},
     "output_type": "execute_result"
    }
   ],
   "source": [
    "res=numpy.array(results['mean_test_score'])\n",
    "res"
   ]
  },
  {
   "cell_type": "code",
   "execution_count": 88,
   "metadata": {},
   "outputs": [
    {
     "data": {
      "text/plain": [
       "{'max_features': 22}"
      ]
     },
     "execution_count": 88,
     "metadata": {},
     "output_type": "execute_result"
    }
   ],
   "source": [
    "results['params'][res.argmax()]"
   ]
  },
  {
   "cell_type": "markdown",
   "metadata": {},
   "source": [
    "Маловероятно, что изменение параметров существенно улучшит результат. Попробуем всё-таки с помощью бустинга."
   ]
  },
  {
   "cell_type": "markdown",
   "metadata": {},
   "source": [
    "### GradientBoostingRegressor"
   ]
  },
  {
   "cell_type": "markdown",
   "metadata": {},
   "source": [
    "Сначала поймём, какие перспективы у другого метода:"
   ]
  },
  {
   "cell_type": "code",
   "execution_count": 89,
   "metadata": {},
   "outputs": [],
   "source": [
    "mdlBo = sklearn.ensemble.GradientBoostingRegressor(learning_rate=0.2)\n",
    "gsBo = GridSearchCV(mdlBo,\n",
    "                  param_grid={'min_samples_split' : range(2,11,2), 'n_estimators' : range(60,201,40)},\n",
    "                  scoring='neg_mean_absolute_error', cv=5, return_train_score=True, n_jobs=-1)\n",
    "gsBo.fit(X, y)\n",
    "results = gsBo.cv_results_"
   ]
  },
  {
   "cell_type": "code",
   "execution_count": 90,
   "metadata": {},
   "outputs": [
    {
     "data": {
      "text/plain": [
       "array([-1599064.0320582 , -1511937.43650027, -1432747.89274334,\n",
       "       -1366732.27402263, -1598942.08776426, -1514546.10932117,\n",
       "       -1438485.97673309, -1372037.27266449, -1598961.27621771,\n",
       "       -1514878.25620243, -1436817.93163521, -1370420.3175838 ,\n",
       "       -1598948.40099429, -1515309.74309665, -1437394.80538328,\n",
       "       -1370039.69464555, -1598561.47032605, -1515193.2577732 ,\n",
       "       -1437446.67292929, -1369383.21875044])"
      ]
     },
     "execution_count": 90,
     "metadata": {},
     "output_type": "execute_result"
    }
   ],
   "source": [
    "res=numpy.array(results['mean_test_score'])\n",
    "res"
   ]
  },
  {
   "cell_type": "code",
   "execution_count": 91,
   "metadata": {},
   "outputs": [
    {
     "data": {
      "text/plain": [
       "{'min_samples_split': 2, 'n_estimators': 180}"
      ]
     },
     "execution_count": 91,
     "metadata": {},
     "output_type": "execute_result"
    }
   ],
   "source": [
    "results['params'][res.argmax()]"
   ]
  },
  {
   "cell_type": "markdown",
   "metadata": {},
   "source": [
    "Выглядит логично - чем глубже каждое дерево, и чем больше деревьев, тем лучше. До страха переобучиться, разумеется, пока ещё очень далеко. "
   ]
  },
  {
   "cell_type": "markdown",
   "metadata": {},
   "source": [
    "Далее идут несколько однотипных запусков, которые можно было бы провести сразу - но тогда пришлось бы довольно долго ждать и не было бы понимания в какую сторону менять параметры."
   ]
  },
  {
   "cell_type": "code",
   "execution_count": 95,
   "metadata": {},
   "outputs": [],
   "source": [
    "mdlBo1 = sklearn.ensemble.GradientBoostingRegressor(min_samples_split=2, n_estimators=180)\n",
    "gsBo1 = GridSearchCV(mdlBo1,\n",
    "                  param_grid={'learning_rate' : numpy.arange(0.05,0.5,0.05)},\n",
    "                  scoring='neg_mean_absolute_error', cv=5, return_train_score=True, n_jobs=-1)\n",
    "gsBo1.fit(X, y)\n",
    "results = gsBo1.cv_results_"
   ]
  },
  {
   "cell_type": "code",
   "execution_count": 96,
   "metadata": {},
   "outputs": [
    {
     "data": {
      "text/plain": [
       "array([-1644297.91358223, -1540779.16025692, -1443954.18939633,\n",
       "       -1366721.29311401, -1307033.87129609, -1255364.46596838,\n",
       "       -1206981.58771343, -1178717.08426493, -1143983.95974655])"
      ]
     },
     "execution_count": 96,
     "metadata": {},
     "output_type": "execute_result"
    }
   ],
   "source": [
    "res=numpy.array(results['mean_test_score'])\n",
    "res"
   ]
  },
  {
   "cell_type": "code",
   "execution_count": 97,
   "metadata": {},
   "outputs": [
    {
     "data": {
      "text/plain": [
       "{'learning_rate': 0.45}"
      ]
     },
     "execution_count": 97,
     "metadata": {},
     "output_type": "execute_result"
    }
   ],
   "source": [
    "results['params'][res.argmax()]"
   ]
  },
  {
   "cell_type": "markdown",
   "metadata": {},
   "source": [
    "Уже лучше, есть смысл попробовать сдать, прежде чем продолжить."
   ]
  },
  {
   "cell_type": "code",
   "execution_count": 99,
   "metadata": {},
   "outputs": [],
   "source": [
    "preds = gsBo1.predict(Xt)\n",
    "\n",
    "test['price'] = preds\n",
    "\n",
    "test[['id', 'price']].to_csv('sub_Bo1.csv', index=False)"
   ]
  },
  {
   "cell_type": "markdown",
   "metadata": {},
   "source": [
    "Идём дальше по learning_rate, пошевелим и количество деревьев тоже."
   ]
  },
  {
   "cell_type": "code",
   "execution_count": 100,
   "metadata": {},
   "outputs": [],
   "source": [
    "mdlBo2 = sklearn.ensemble.GradientBoostingRegressor(min_samples_split=2)\n",
    "gsBo2 = GridSearchCV(mdlBo2,\n",
    "                  param_grid={'learning_rate' : numpy.arange(0.5,0.9,0.05), 'n_estimators' : range(180,300,40)},\n",
    "                  scoring='neg_mean_absolute_error', cv=5, return_train_score=True, n_jobs=-1)\n",
    "gsBo2.fit(X, y)\n",
    "results = gsBo2.cv_results_"
   ]
  },
  {
   "cell_type": "code",
   "execution_count": 102,
   "metadata": {},
   "outputs": [
    {
     "data": {
      "text/plain": [
       "array([-1107697.50719017, -1057172.63229039, -1013985.32584939,\n",
       "       -1090541.08347033, -1038875.94690595, -1001248.45093489,\n",
       "       -1073296.17932881, -1020529.47245749,  -983663.90127845,\n",
       "       -1055360.44682761, -1003370.40021437,  -970317.66547159,\n",
       "       -1044566.19352576,  -994069.31961658,  -957688.23651668,\n",
       "       -1042865.92703064,  -996143.64482229,  -964725.15674008,\n",
       "       -1028365.60988916,  -982478.9198752 ,  -951817.70567723,\n",
       "       -1016351.85503699,  -974105.50426837,  -948232.62558477])"
      ]
     },
     "execution_count": 102,
     "metadata": {},
     "output_type": "execute_result"
    }
   ],
   "source": [
    "res=numpy.array(results['mean_test_score'])\n",
    "res"
   ]
  },
  {
   "cell_type": "code",
   "execution_count": 103,
   "metadata": {},
   "outputs": [
    {
     "data": {
      "text/plain": [
       "{'learning_rate': 0.8500000000000003, 'n_estimators': 260}"
      ]
     },
     "execution_count": 103,
     "metadata": {},
     "output_type": "execute_result"
    }
   ],
   "source": [
    "results['params'][res.argmax()]"
   ]
  },
  {
   "cell_type": "code",
   "execution_count": 104,
   "metadata": {},
   "outputs": [],
   "source": [
    "preds = gsBo2.predict(Xt)\n",
    "\n",
    "test['price'] = preds\n",
    "\n",
    "test[['id', 'price']].to_csv('sub_Bo2.csv', index=False)"
   ]
  },
  {
   "cell_type": "markdown",
   "metadata": {},
   "source": [
    "Тенденция на увеличение learning_rate и количества деревьев сохранилась. Есть смысл продолжать."
   ]
  },
  {
   "cell_type": "code",
   "execution_count": 106,
   "metadata": {},
   "outputs": [],
   "source": [
    "mdlBo3 = sklearn.ensemble.GradientBoostingRegressor(min_samples_split=2)\n",
    "gsBo3 = GridSearchCV(mdlBo3,\n",
    "                  param_grid={'learning_rate' : numpy.arange(0.75,1,0.05), 'n_estimators' : range(300,501,50)},\n",
    "                  scoring='neg_mean_absolute_error', cv=5, return_train_score=True, n_jobs=-1)\n",
    "gsBo3.fit(X, y)\n",
    "results = gsBo3.cv_results_"
   ]
  },
  {
   "cell_type": "code",
   "execution_count": 107,
   "metadata": {},
   "outputs": [
    {
     "data": {
      "text/plain": [
       "array([-939284.08716812, -916347.09695907, -899553.3208738 ,\n",
       "       -887699.87773527, -878195.31474589, -928871.82631371,\n",
       "       -909655.00057635, -894480.94898156, -882734.29847653,\n",
       "       -875540.31352034, -925701.93318719, -909623.88316795,\n",
       "       -897196.37723119, -887723.86120875, -881299.96467626,\n",
       "       -922007.91724824, -906630.94336201, -895837.40732694,\n",
       "       -886933.65254958, -881671.25839518, -936911.21968076,\n",
       "       -919928.70990368, -907988.71924414, -901273.44706705,\n",
       "       -896577.47092185])"
      ]
     },
     "execution_count": 107,
     "metadata": {},
     "output_type": "execute_result"
    }
   ],
   "source": [
    "res=numpy.array(results['mean_test_score'])\n",
    "res"
   ]
  },
  {
   "cell_type": "code",
   "execution_count": 108,
   "metadata": {},
   "outputs": [
    {
     "data": {
      "text/plain": [
       "{'learning_rate': 0.8, 'n_estimators': 500}"
      ]
     },
     "execution_count": 108,
     "metadata": {},
     "output_type": "execute_result"
    }
   ],
   "source": [
    "results['params'][res.argmax()]"
   ]
  },
  {
   "cell_type": "code",
   "execution_count": 110,
   "metadata": {},
   "outputs": [],
   "source": [
    "preds = gsBo3.predict(Xt)\n",
    "\n",
    "test['price'] = preds\n",
    "\n",
    "test[['id', 'price']].to_csv('sub_Bo3.csv', index=False)"
   ]
  },
  {
   "cell_type": "markdown",
   "metadata": {},
   "source": [
    "Попробуем нарисовать зависимость качества модели от наших параметров"
   ]
  },
  {
   "cell_type": "code",
   "execution_count": 131,
   "metadata": {},
   "outputs": [
    {
     "data": {
      "image/png": "[encoded data removed]",
      "text/plain": [
       "<Figure size 864x864 with 1 Axes>"
      ]
     },
     "metadata": {
      "needs_background": "light"
     },
     "output_type": "display_data"
    }
   ],
   "source": [
    "from matplotlib import pyplot as plt\n",
    "plt.figure(figsize=(12, 12))\n",
    "plt.title(\"GridSearchCV evaluating\",\n",
    "          fontsize=16)\n",
    "plt.xlabel(\"n_estimators\")\n",
    "plt.ylabel(\"-MAE Score\")\n",
    "a=plt.gca()\n",
    "a.plot(range(300,501,50), res[0:5], label='0.75')\n",
    "a.plot(range(300,501,50), res[5:10], label='0.80')\n",
    "a.plot(range(300,501,50), res[10:15], label='0.85')\n",
    "a.plot(range(300,501,50), res[15:20], label='0.90')\n",
    "a.plot(range(300,501,50), res[20:25], label='0.95')\n",
    "plt.legend()\n",
    "plt.show()\n"
   ]
  },
  {
   "cell_type": "markdown",
   "metadata": {},
   "source": [
    "На графике видим, что при ещё больших количествах деревьев модель станет только лучше. Однако рост качества замедляется при увеличении learning_rate.\n",
    "Отсюда делаем вывод, что его можно сделать поменьше, а деревьев побольше."
   ]
  },
  {
   "cell_type": "markdown",
   "metadata": {},
   "source": [
    "### Дальнейший подбор"
   ]
  },
  {
   "cell_type": "code",
   "execution_count": 133,
   "metadata": {},
   "outputs": [
    {
     "data": {
      "text/plain": [
       "array([-868007.70207084, -860546.59249657, -855385.51514075,\n",
       "       -850648.24809862, -846641.02211251, -863688.33226684,\n",
       "       -857552.17565201, -852370.40813025, -848643.00739136,\n",
       "       -845176.56507407, -870479.16571655, -864574.07163363,\n",
       "       -859868.40660803, -856694.90210498, -853398.3551048 ,\n",
       "       -869999.72943985, -865340.6572962 , -862014.65852917,\n",
       "       -859345.38490245, -857221.44696761, -876142.12696268,\n",
       "       -872002.11961413, -868394.15768905, -864399.84648179,\n",
       "       -860236.94242959])"
      ]
     },
     "execution_count": 133,
     "metadata": {},
     "output_type": "execute_result"
    }
   ],
   "source": [
    "mdlBo4 = sklearn.ensemble.GradientBoostingRegressor(min_samples_split=2)\n",
    "gsBo4 = GridSearchCV(mdlBo4,\n",
    "                  param_grid={'learning_rate' : numpy.arange(0.65,0.86,0.05), 'n_estimators' : range(550,800,50)},\n",
    "                  scoring='neg_mean_absolute_error', cv=5, return_train_score=True, n_jobs=-1)\n",
    "gsBo4.fit(X, y)\n",
    "results = gsBo4.cv_results_\n",
    "\n",
    "res=numpy.array(results['mean_test_score'])\n",
    "res"
   ]
  },
  {
   "cell_type": "code",
   "execution_count": 134,
   "metadata": {},
   "outputs": [
    {
     "data": {
      "text/plain": [
       "{'learning_rate': 0.7000000000000001, 'n_estimators': 750}"
      ]
     },
     "execution_count": 134,
     "metadata": {},
     "output_type": "execute_result"
    }
   ],
   "source": [
    "results['params'][res.argmax()]"
   ]
  },
  {
   "cell_type": "code",
   "execution_count": 135,
   "metadata": {},
   "outputs": [
    {
     "data": {
      "text/plain": [
       "[{'learning_rate': 0.65, 'n_estimators': 550},\n",
       " {'learning_rate': 0.65, 'n_estimators': 600},\n",
       " {'learning_rate': 0.65, 'n_estimators': 650},\n",
       " {'learning_rate': 0.65, 'n_estimators': 700},\n",
       " {'learning_rate': 0.65, 'n_estimators': 750},\n",
       " {'learning_rate': 0.7000000000000001, 'n_estimators': 550},\n",
       " {'learning_rate': 0.7000000000000001, 'n_estimators': 600},\n",
       " {'learning_rate': 0.7000000000000001, 'n_estimators': 650},\n",
       " {'learning_rate': 0.7000000000000001, 'n_estimators': 700},\n",
       " {'learning_rate': 0.7000000000000001, 'n_estimators': 750},\n",
       " {'learning_rate': 0.7500000000000001, 'n_estimators': 550},\n",
       " {'learning_rate': 0.7500000000000001, 'n_estimators': 600},\n",
       " {'learning_rate': 0.7500000000000001, 'n_estimators': 650},\n",
       " {'learning_rate': 0.7500000000000001, 'n_estimators': 700},\n",
       " {'learning_rate': 0.7500000000000001, 'n_estimators': 750},\n",
       " {'learning_rate': 0.8000000000000002, 'n_estimators': 550},\n",
       " {'learning_rate': 0.8000000000000002, 'n_estimators': 600},\n",
       " {'learning_rate': 0.8000000000000002, 'n_estimators': 650},\n",
       " {'learning_rate': 0.8000000000000002, 'n_estimators': 700},\n",
       " {'learning_rate': 0.8000000000000002, 'n_estimators': 750},\n",
       " {'learning_rate': 0.8500000000000002, 'n_estimators': 550},\n",
       " {'learning_rate': 0.8500000000000002, 'n_estimators': 600},\n",
       " {'learning_rate': 0.8500000000000002, 'n_estimators': 650},\n",
       " {'learning_rate': 0.8500000000000002, 'n_estimators': 700},\n",
       " {'learning_rate': 0.8500000000000002, 'n_estimators': 750}]"
      ]
     },
     "execution_count": 135,
     "metadata": {},
     "output_type": "execute_result"
    }
   ],
   "source": [
    "results['params']"
   ]
  },
  {
   "cell_type": "code",
   "execution_count": 136,
   "metadata": {},
   "outputs": [
    {
     "data": {
      "image/png": "[encoded data removed]",
      "text/plain": [
       "<Figure size 864x864 with 1 Axes>"
      ]
     },
     "metadata": {
      "needs_background": "light"
     },
     "output_type": "display_data"
    }
   ],
   "source": [
    "from matplotlib import pyplot as plt\n",
    "plt.figure(figsize=(12, 12))\n",
    "plt.title(\"GridSearchCV evaluating\",\n",
    "          fontsize=16)\n",
    "plt.xlabel(\"n_estimators\")\n",
    "plt.ylabel(\"-MAE Score\")\n",
    "a=plt.gca()\n",
    "a.plot(range(550,800,50), res[0:5], label='0.65')\n",
    "a.plot(range(550,800,50), res[5:10], label='0.70')\n",
    "a.plot(range(550,800,50), res[10:15], label='0.75')\n",
    "a.plot(range(550,800,50), res[15:20], label='0.80')\n",
    "a.plot(range(550,800,50), res[20:25], label='0.85')\n",
    "plt.legend()\n",
    "plt.show()"
   ]
  },
  {
   "cell_type": "code",
   "execution_count": 137,
   "metadata": {},
   "outputs": [],
   "source": [
    "preds = gsBo4.predict(Xt)\n",
    "\n",
    "test['price'] = preds\n",
    "\n",
    "test[['id', 'price']].to_csv('sub_Bo4.csv', index=False)"
   ]
  },
  {
   "cell_type": "code",
   "execution_count": 138,
   "metadata": {},
   "outputs": [
    {
     "data": {
      "text/plain": [
       "array([-835638.17676082, -832541.66712002, -829386.44497938,\n",
       "       -827365.84804865, -826042.63511225, -838296.94788227,\n",
       "       -835935.86698331, -833292.6640417 , -830302.50758231,\n",
       "       -828820.63168036, -839117.39568785, -836832.90825358,\n",
       "       -834478.39240527, -833552.43026478, -832360.90433584,\n",
       "       -844786.46017473, -841521.90898934, -839582.97478253,\n",
       "       -837746.20172581, -835766.58264374, -844727.19099304,\n",
       "       -842907.20156933, -840387.64134382, -837786.45273036,\n",
       "       -835545.0373446 ])"
      ]
     },
     "execution_count": 138,
     "metadata": {},
     "output_type": "execute_result"
    }
   ],
   "source": [
    "mdlBo5 = sklearn.ensemble.GradientBoostingRegressor(min_samples_split=2)\n",
    "gsBo5 = GridSearchCV(mdlBo5,\n",
    "                  param_grid={'learning_rate' : numpy.arange(0.60,0.73,0.03), 'n_estimators' : range(800,1001,50)},\n",
    "                  scoring='neg_mean_absolute_error', cv=5, return_train_score=True, n_jobs=-1)\n",
    "gsBo5.fit(X, y)\n",
    "results = gsBo5.cv_results_\n",
    "\n",
    "res=numpy.array(results['mean_test_score'])\n",
    "res"
   ]
  },
  {
   "cell_type": "code",
   "execution_count": 139,
   "metadata": {},
   "outputs": [
    {
     "data": {
      "text/plain": [
       "{'learning_rate': 0.6, 'n_estimators': 1000}"
      ]
     },
     "execution_count": 139,
     "metadata": {},
     "output_type": "execute_result"
    }
   ],
   "source": [
    "results['params'][res.argmax()]"
   ]
  },
  {
   "cell_type": "code",
   "execution_count": 140,
   "metadata": {},
   "outputs": [
    {
     "data": {
      "text/plain": [
       "[{'learning_rate': 0.6, 'n_estimators': 800},\n",
       " {'learning_rate': 0.6, 'n_estimators': 850},\n",
       " {'learning_rate': 0.6, 'n_estimators': 900},\n",
       " {'learning_rate': 0.6, 'n_estimators': 950},\n",
       " {'learning_rate': 0.6, 'n_estimators': 1000},\n",
       " {'learning_rate': 0.63, 'n_estimators': 800},\n",
       " {'learning_rate': 0.63, 'n_estimators': 850},\n",
       " {'learning_rate': 0.63, 'n_estimators': 900},\n",
       " {'learning_rate': 0.63, 'n_estimators': 950},\n",
       " {'learning_rate': 0.63, 'n_estimators': 1000},\n",
       " {'learning_rate': 0.66, 'n_estimators': 800},\n",
       " {'learning_rate': 0.66, 'n_estimators': 850},\n",
       " {'learning_rate': 0.66, 'n_estimators': 900},\n",
       " {'learning_rate': 0.66, 'n_estimators': 950},\n",
       " {'learning_rate': 0.66, 'n_estimators': 1000},\n",
       " {'learning_rate': 0.6900000000000001, 'n_estimators': 800},\n",
       " {'learning_rate': 0.6900000000000001, 'n_estimators': 850},\n",
       " {'learning_rate': 0.6900000000000001, 'n_estimators': 900},\n",
       " {'learning_rate': 0.6900000000000001, 'n_estimators': 950},\n",
       " {'learning_rate': 0.6900000000000001, 'n_estimators': 1000},\n",
       " {'learning_rate': 0.7200000000000001, 'n_estimators': 800},\n",
       " {'learning_rate': 0.7200000000000001, 'n_estimators': 850},\n",
       " {'learning_rate': 0.7200000000000001, 'n_estimators': 900},\n",
       " {'learning_rate': 0.7200000000000001, 'n_estimators': 950},\n",
       " {'learning_rate': 0.7200000000000001, 'n_estimators': 1000}]"
      ]
     },
     "execution_count": 140,
     "metadata": {},
     "output_type": "execute_result"
    }
   ],
   "source": [
    "results['params']"
   ]
  },
  {
   "cell_type": "code",
   "execution_count": 141,
   "metadata": {},
   "outputs": [
    {
     "data": {
      "image/png": "[encoded data removed]",
      "text/plain": [
       "<Figure size 864x864 with 1 Axes>"
      ]
     },
     "metadata": {
      "needs_background": "light"
     },
     "output_type": "display_data"
    }
   ],
   "source": [
    "from matplotlib import pyplot as plt\n",
    "plt.figure(figsize=(12, 12))\n",
    "plt.title(\"GridSearchCV evaluating\",\n",
    "          fontsize=16)\n",
    "plt.xlabel(\"n_estimators\")\n",
    "plt.ylabel(\"-MAE Score\")\n",
    "a=plt.gca()\n",
    "x=range(800,1001,50)\n",
    "a.plot(x, res[0:5], label='0.60')\n",
    "a.plot(x, res[5:10], label='0.63')\n",
    "a.plot(x, res[10:15], label='0.66')\n",
    "a.plot(x, res[15:20], label='0.69')\n",
    "a.plot(x, res[20:25], label='0.72')\n",
    "plt.legend()\n",
    "plt.show()"
   ]
  },
  {
   "cell_type": "code",
   "execution_count": 142,
   "metadata": {},
   "outputs": [],
   "source": [
    "preds = gsBo5.predict(Xt)\n",
    "\n",
    "test['price'] = preds\n",
    "\n",
    "test[['id', 'price']].to_csv('sub_Bo5.csv', index=False)"
   ]
  },
  {
   "cell_type": "code",
   "execution_count": 143,
   "metadata": {},
   "outputs": [
    {
     "data": {
      "text/plain": [
       "array([-833444.7985018 , -829311.97837135, -826579.14978621,\n",
       "       -824393.34702204, -822120.3297511 , -829218.73376368,\n",
       "       -826207.43575868, -824489.46029894, -822902.36769045,\n",
       "       -820544.77315646, -832512.93672507, -829337.46289684,\n",
       "       -827155.01260455, -825032.97195632, -823225.18750569,\n",
       "       -832613.64538985, -829587.75826955, -828062.56308652,\n",
       "       -825775.88275773, -824338.3548832 , -834594.44968963,\n",
       "       -832260.80107533, -830801.02522148, -828244.80045337,\n",
       "       -827574.04633765])"
      ]
     },
     "execution_count": 143,
     "metadata": {},
     "output_type": "execute_result"
    }
   ],
   "source": [
    "mdlBo6 = sklearn.ensemble.GradientBoostingRegressor(min_samples_split=2)\n",
    "gsBo6 = GridSearchCV(mdlBo6,\n",
    "                  param_grid={'learning_rate' : numpy.arange(0.50,0.63,0.03), 'n_estimators' : range(900,1101,50)},\n",
    "                  scoring='neg_mean_absolute_error', cv=5, return_train_score=True, n_jobs=-1)\n",
    "gsBo6.fit(X, y)\n",
    "results = gsBo6.cv_results_\n",
    "\n",
    "res=numpy.array(results['mean_test_score'])\n",
    "res"
   ]
  },
  {
   "cell_type": "code",
   "execution_count": 144,
   "metadata": {},
   "outputs": [
    {
     "data": {
      "text/plain": [
       "{'learning_rate': 0.53, 'n_estimators': 1100}"
      ]
     },
     "execution_count": 144,
     "metadata": {},
     "output_type": "execute_result"
    }
   ],
   "source": [
    "results['params'][res.argmax()]"
   ]
  },
  {
   "cell_type": "code",
   "execution_count": 145,
   "metadata": {},
   "outputs": [
    {
     "data": {
      "image/png": "[encoded data removed]",
      "text/plain": [
       "<Figure size 864x864 with 1 Axes>"
      ]
     },
     "metadata": {
      "needs_background": "light"
     },
     "output_type": "display_data"
    }
   ],
   "source": [
    "plt.figure(figsize=(12, 12))\n",
    "plt.title(\"GridSearchCV evaluating\",\n",
    "          fontsize=16)\n",
    "plt.xlabel(\"n_estimators\")\n",
    "plt.ylabel(\"-MAE Score\")\n",
    "a=plt.gca()\n",
    "x=range(900,1101,50)\n",
    "a.plot(x, res[0:5], label='0.50')\n",
    "a.plot(x, res[5:10], label='0.53')\n",
    "a.plot(x, res[10:15], label='0.56')\n",
    "a.plot(x, res[15:20], label='0.59')\n",
    "a.plot(x, res[20:25], label='0.62')\n",
    "plt.legend()\n",
    "plt.show()"
   ]
  },
  {
   "cell_type": "markdown",
   "metadata": {},
   "source": [
    "Темпы улучшения замедлились, а запуск становится невыносимо долгим."
   ]
  },
  {
   "cell_type": "code",
   "execution_count": 146,
   "metadata": {},
   "outputs": [],
   "source": [
    "preds = gsBo6.predict(Xt)\n",
    "\n",
    "test['price'] = preds\n",
    "\n",
    "test[['id', 'price']].to_csv('sub_Bo6.csv', index=False)"
   ]
  },
  {
   "cell_type": "markdown",
   "metadata": {},
   "source": [
    "##### Сейчас уже было бы самое время воспользоваться подстройкой,\n",
    "например, в виде функции fmin из Hyperopt, но попытки её поставить, к сожалению, не увенчались успехом.\n",
    "Пакет bayes_opt и вовсе написан только под линукс.\n",
    "Поэтому крайний разик сделаем руками: посмотрим, будет ли переобучение по количеству деревьев."
   ]
  },
  {
   "cell_type": "code",
   "execution_count": 149,
   "metadata": {},
   "outputs": [
    {
     "data": {
      "text/plain": [
       "array([-821356.8016598 , -817438.98197359, -813844.77262535,\n",
       "       -810457.54990425, -816838.21244533, -813492.12942754,\n",
       "       -810721.9216382 , -808419.45826457, -818627.90209706,\n",
       "       -815356.0072279 , -813339.14188683, -811392.01487831,\n",
       "       -818505.19387423, -816087.28079065, -814596.49601668,\n",
       "       -813342.45521735])"
      ]
     },
     "execution_count": 149,
     "metadata": {},
     "output_type": "execute_result"
    }
   ],
   "source": [
    "mdlBo7 = sklearn.ensemble.GradientBoostingRegressor(min_samples_split=2)\n",
    "gsBo7 = GridSearchCV(mdlBo7,\n",
    "                  param_grid={'learning_rate' : numpy.arange(0.4,0.55,0.05), 'n_estimators' : range(1200,1501,100)},\n",
    "                  scoring='neg_mean_absolute_error', cv=5, return_train_score=True, n_jobs=-1)\n",
    "gsBo7.fit(X, y)\n",
    "results = gsBo7.cv_results_\n",
    "\n",
    "res=numpy.array(results['mean_test_score'])\n",
    "res"
   ]
  },
  {
   "cell_type": "code",
   "execution_count": 150,
   "metadata": {},
   "outputs": [
    {
     "data": {
      "text/plain": [
       "{'learning_rate': 0.45, 'n_estimators': 1500}"
      ]
     },
     "execution_count": 150,
     "metadata": {},
     "output_type": "execute_result"
    }
   ],
   "source": [
    "results['params'][res.argmax()]"
   ]
  },
  {
   "cell_type": "code",
   "execution_count": 151,
   "metadata": {},
   "outputs": [
    {
     "data": {
      "image/png": "[encoded data removed]",
      "text/plain": [
       "<Figure size 864x864 with 1 Axes>"
      ]
     },
     "metadata": {
      "needs_background": "light"
     },
     "output_type": "display_data"
    }
   ],
   "source": [
    "plt.figure(figsize=(12, 12))\n",
    "plt.title(\"GridSearchCV evaluating\",\n",
    "          fontsize=16)\n",
    "plt.xlabel(\"n_estimators\")\n",
    "plt.ylabel(\"-MAE Score\")\n",
    "a=plt.gca()\n",
    "x=range(1200,1501,100)\n",
    "a.plot(x, res[0:4], label='0.40')\n",
    "a.plot(x, res[4:8], label='0.45')\n",
    "a.plot(x, res[8:12], label='0.50')\n",
    "plt.legend()\n",
    "plt.show()"
   ]
  },
  {
   "cell_type": "code",
   "execution_count": 153,
   "metadata": {},
   "outputs": [],
   "source": [
    "preds = gsBo7.predict(Xt)\n",
    "\n",
    "test['price'] = preds\n",
    "\n",
    "test[['id', 'price']].to_csv('sub_Bo7.csv', index=False)"
   ]
  },
  {
   "cell_type": "markdown",
   "metadata": {},
   "source": [
    "Количество деревьев всё ещё можно увеличивать!"
   ]
  },
  {
   "cell_type": "code",
   "execution_count": 154,
   "metadata": {},
   "outputs": [
    {
     "data": {
      "text/plain": [
       "array([-810285.80645921, -805846.15002682, -801843.18994143])"
      ]
     },
     "execution_count": 154,
     "metadata": {},
     "output_type": "execute_result"
    }
   ],
   "source": [
    "mdlBo8 = sklearn.ensemble.GradientBoostingRegressor(min_samples_split=2, learning_rate=0.35)\n",
    "gsBo8 = GridSearchCV(mdlBo8,\n",
    "                  param_grid={'n_estimators' : range(1600,2001,200)},\n",
    "                  scoring='neg_mean_absolute_error', cv=5, return_train_score=True, n_jobs=-1)\n",
    "gsBo8.fit(X, y)\n",
    "results = gsBo8.cv_results_\n",
    "\n",
    "res=numpy.array(results['mean_test_score'])\n",
    "res"
   ]
  },
  {
   "cell_type": "code",
   "execution_count": 155,
   "metadata": {},
   "outputs": [
    {
     "data": {
      "text/plain": [
       "{'n_estimators': 2000}"
      ]
     },
     "execution_count": 155,
     "metadata": {},
     "output_type": "execute_result"
    }
   ],
   "source": [
    "results['params'][res.argmax()]"
   ]
  },
  {
   "cell_type": "code",
   "execution_count": 156,
   "metadata": {},
   "outputs": [
    {
     "data": {
      "image/png": "[encoded data removed]",
      "text/plain": [
       "<Figure size 864x864 with 1 Axes>"
      ]
     },
     "metadata": {
      "needs_background": "light"
     },
     "output_type": "display_data"
    }
   ],
   "source": [
    "plt.figure(figsize=(12, 12))\n",
    "plt.title(\"GridSearchCV evaluating\",\n",
    "          fontsize=16)\n",
    "plt.xlabel(\"n_estimators\")\n",
    "plt.ylabel(\"-MAE Score\")\n",
    "a=plt.gca()\n",
    "x=range(1600,2001,200)\n",
    "a.plot(x, res[0:3], label='0.35')\n",
    "plt.legend()\n",
    "plt.show()"
   ]
  },
  {
   "cell_type": "code",
   "execution_count": 157,
   "metadata": {},
   "outputs": [],
   "source": [
    "preds = gsBo8.predict(Xt)\n",
    "\n",
    "test['price'] = preds\n",
    "\n",
    "test[['id', 'price']].to_csv('sub_Bo8.csv', index=False)"
   ]
  },
  {
   "cell_type": "markdown",
   "metadata": {},
   "source": [
    "Дальнейший рост по количеству деревьев малопродуктивен. Подберём learning_rate и остановимся на этом."
   ]
  },
  {
   "cell_type": "code",
   "execution_count": 161,
   "metadata": {},
   "outputs": [
    {
     "data": {
      "text/plain": [
       "array([-798683.34682312, -799560.10764552, -801298.42887125,\n",
       "       -797518.21420304, -800249.34828463])"
      ]
     },
     "execution_count": 161,
     "metadata": {},
     "output_type": "execute_result"
    }
   ],
   "source": [
    "mdlBo9 = sklearn.ensemble.GradientBoostingRegressor(min_samples_split=2, n_estimators=2200)\n",
    "gsBo9 = GridSearchCV(mdlBo9,\n",
    "                  param_grid={'learning_rate' : numpy.arange(0.32,0.41,0.02)},\n",
    "                  scoring='neg_mean_absolute_error', cv=5, return_train_score=True, n_jobs=-1)\n",
    "gsBo9.fit(X, y)\n",
    "results = gsBo9.cv_results_\n",
    "\n",
    "res=numpy.array(results['mean_test_score'])\n",
    "res"
   ]
  },
  {
   "cell_type": "code",
   "execution_count": 162,
   "metadata": {},
   "outputs": [
    {
     "data": {
      "text/plain": [
       "{'learning_rate': 0.38000000000000006}"
      ]
     },
     "execution_count": 162,
     "metadata": {},
     "output_type": "execute_result"
    }
   ],
   "source": [
    "results['params'][res.argmax()]"
   ]
  },
  {
   "cell_type": "code",
   "execution_count": 163,
   "metadata": {},
   "outputs": [],
   "source": [
    "preds = gsBo9.predict(Xt)\n",
    "\n",
    "test['price'] = preds\n",
    "\n",
    "test[['id', 'price']].to_csv('sub_Bo9.csv', index=False)"
   ]
  },
  {
   "cell_type": "markdown",
   "metadata": {},
   "source": [
    "### Как же всё-таки учесть дату?"
   ]
  },
  {
   "cell_type": "markdown",
   "metadata": {},
   "source": [
    "В задании сказано, что новые объявления имеют большую дату, чем в обучающей выборке. Но деревья, которыми мы пользовались до сих пор - хорошо интерполируют, но абсолютно никчемно экстраполируют. Поэтому есть опасения, что модель не будет хорошо работать на \"будущих\" данных. То есть она правильно определит и даст приемлимое соотношение между ценами объектов, но учесть инфляцию не выйдет."
   ]
  },
  {
   "cell_type": "code",
   "execution_count": 227,
   "metadata": {},
   "outputs": [
    {
     "data": {
      "text/html": [
       "<div>\n",
       "<style scoped>\n",
       "    .dataframe tbody tr th:only-of-type {\n",
       "        vertical-align: middle;\n",
       "    }\n",
       "\n",
       "    .dataframe tbody tr th {\n",
       "        vertical-align: top;\n",
       "    }\n",
       "\n",
       "    .dataframe thead th {\n",
       "        text-align: right;\n",
       "    }\n",
       "</style>\n",
       "<table border=\"1\" class=\"dataframe\">\n",
       "  <thead>\n",
       "    <tr style=\"text-align: right;\">\n",
       "      <th></th>\n",
       "      <th>id</th>\n",
       "      <th>date</th>\n",
       "      <th>street_id</th>\n",
       "      <th>build_tech</th>\n",
       "      <th>floor</th>\n",
       "      <th>area</th>\n",
       "      <th>rooms</th>\n",
       "      <th>balcon</th>\n",
       "      <th>metro_dist</th>\n",
       "      <th>g_lift</th>\n",
       "      <th>...</th>\n",
       "      <th>kw6</th>\n",
       "      <th>kw7</th>\n",
       "      <th>kw8</th>\n",
       "      <th>kw9</th>\n",
       "      <th>kw10</th>\n",
       "      <th>kw11</th>\n",
       "      <th>kw12</th>\n",
       "      <th>kw13</th>\n",
       "      <th>price</th>\n",
       "      <th>mydate</th>\n",
       "    </tr>\n",
       "  </thead>\n",
       "  <tbody>\n",
       "    <tr>\n",
       "      <th>0</th>\n",
       "      <td>0</td>\n",
       "      <td>2011-01-01</td>\n",
       "      <td>531</td>\n",
       "      <td>-1.0</td>\n",
       "      <td>12</td>\n",
       "      <td>35</td>\n",
       "      <td>1</td>\n",
       "      <td>1</td>\n",
       "      <td>25.0</td>\n",
       "      <td>-1.0</td>\n",
       "      <td>...</td>\n",
       "      <td>0</td>\n",
       "      <td>0</td>\n",
       "      <td>0</td>\n",
       "      <td>0</td>\n",
       "      <td>0</td>\n",
       "      <td>0</td>\n",
       "      <td>0</td>\n",
       "      <td>0</td>\n",
       "      <td>3721000</td>\n",
       "      <td>31</td>\n",
       "    </tr>\n",
       "    <tr>\n",
       "      <th>1</th>\n",
       "      <td>1</td>\n",
       "      <td>2011-01-01</td>\n",
       "      <td>385</td>\n",
       "      <td>2.0</td>\n",
       "      <td>15</td>\n",
       "      <td>46</td>\n",
       "      <td>1</td>\n",
       "      <td>2</td>\n",
       "      <td>15.0</td>\n",
       "      <td>1.0</td>\n",
       "      <td>...</td>\n",
       "      <td>0</td>\n",
       "      <td>0</td>\n",
       "      <td>0</td>\n",
       "      <td>0</td>\n",
       "      <td>0</td>\n",
       "      <td>0</td>\n",
       "      <td>0</td>\n",
       "      <td>0</td>\n",
       "      <td>7431000</td>\n",
       "      <td>31</td>\n",
       "    </tr>\n",
       "    <tr>\n",
       "      <th>2</th>\n",
       "      <td>2</td>\n",
       "      <td>2011-01-01</td>\n",
       "      <td>51</td>\n",
       "      <td>0.0</td>\n",
       "      <td>1</td>\n",
       "      <td>53</td>\n",
       "      <td>3</td>\n",
       "      <td>0</td>\n",
       "      <td>30.0</td>\n",
       "      <td>0.0</td>\n",
       "      <td>...</td>\n",
       "      <td>0</td>\n",
       "      <td>0</td>\n",
       "      <td>0</td>\n",
       "      <td>0</td>\n",
       "      <td>0</td>\n",
       "      <td>0</td>\n",
       "      <td>0</td>\n",
       "      <td>0</td>\n",
       "      <td>3081000</td>\n",
       "      <td>31</td>\n",
       "    </tr>\n",
       "  </tbody>\n",
       "</table>\n",
       "<p>3 rows × 26 columns</p>\n",
       "</div>"
      ],
      "text/plain": [
       "   id        date  street_id  build_tech  floor  area  rooms  balcon  \\\n",
       "0   0  2011-01-01        531        -1.0     12    35      1       1   \n",
       "1   1  2011-01-01        385         2.0     15    46      1       2   \n",
       "2   2  2011-01-01         51         0.0      1    53      3       0   \n",
       "\n",
       "   metro_dist  g_lift   ...    kw6  kw7  kw8  kw9  kw10  kw11  kw12  kw13  \\\n",
       "0        25.0    -1.0   ...      0    0    0    0     0     0     0     0   \n",
       "1        15.0     1.0   ...      0    0    0    0     0     0     0     0   \n",
       "2        30.0     0.0   ...      0    0    0    0     0     0     0     0   \n",
       "\n",
       "     price  mydate  \n",
       "0  3721000      31  \n",
       "1  7431000      31  \n",
       "2  3081000      31  \n",
       "\n",
       "[3 rows x 26 columns]"
      ]
     },
     "execution_count": 227,
     "metadata": {},
     "output_type": "execute_result"
    }
   ],
   "source": [
    "train.head(3)"
   ]
  },
  {
   "cell_type": "markdown",
   "metadata": {},
   "source": [
    "Поверим в линейность инфляции и запустим самую обыкновенную регрессию."
   ]
  },
  {
   "cell_type": "code",
   "execution_count": 228,
   "metadata": {},
   "outputs": [
    {
     "data": {
      "text/plain": [
       "array([3721000, 7431000, 3081000, 3847000, 2323000], dtype=int64)"
      ]
     },
     "execution_count": 228,
     "metadata": {},
     "output_type": "execute_result"
    }
   ],
   "source": [
    "from sklearn.linear_model import LinearRegression\n",
    "linmdl=LinearRegression()\n",
    "\n",
    "xxx = numpy.array(train['mydate']).reshape((-1, 1))\n",
    "yyy = numpy.array(train['price'])\n",
    "yyy[0:5]"
   ]
  },
  {
   "cell_type": "markdown",
   "metadata": {},
   "source": [
    "Получим параметры линейной модели"
   ]
  },
  {
   "cell_type": "code",
   "execution_count": 229,
   "metadata": {},
   "outputs": [
    {
     "name": "stdout",
     "output_type": "stream",
     "text": [
      "intercept: 4427529.835904392\n",
      "slope: [1934.43397749]\n"
     ]
    }
   ],
   "source": [
    "linmdl.fit(xxx, yyy)\n",
    "print('intercept:', linmdl.intercept_)\n",
    "print('slope:', linmdl.coef_)"
   ]
  },
  {
   "cell_type": "code",
   "execution_count": 230,
   "metadata": {},
   "outputs": [],
   "source": [
    "xlin = range(30,365,5)\n",
    "coef=linmdl.coef_\n",
    "inter=linmdl.intercept_\n",
    "ylin = coef*x+inter"
   ]
  },
  {
   "cell_type": "markdown",
   "metadata": {},
   "source": [
    "Рисуем зависимоть цены от даты и средню цену"
   ]
  },
  {
   "cell_type": "code",
   "execution_count": 231,
   "metadata": {},
   "outputs": [
    {
     "data": {
      "image/png": "[encoded data removed]",
      "text/plain": [
       "<Figure size 864x864 with 1 Axes>"
      ]
     },
     "metadata": {
      "needs_background": "light"
     },
     "output_type": "display_data"
    }
   ],
   "source": [
    "plt.figure(figsize=(12, 12))\n",
    "plt.title(\"Naive Linear\",\n",
    "          fontsize=16)\n",
    "plt.xlabel(\"data\")\n",
    "plt.ylabel(\"cost\")\n",
    "plt.scatter(xxx, yyy)\n",
    "plt.hlines(y=numpy.mean(yyy), xmin=30, xmax=500, colors='r')\n",
    "plt.show()"
   ]
  },
  {
   "cell_type": "code",
   "execution_count": 232,
   "metadata": {},
   "outputs": [],
   "source": [
    "def inflation(date,inter,coef,mymean):\n",
    "    return (coef*date+inter)/mymean"
   ]
  },
  {
   "cell_type": "code",
   "execution_count": 233,
   "metadata": {},
   "outputs": [
    {
     "data": {
      "text/plain": [
       "0    [1.1003200653149883]\n",
       "1    [1.1003200653149883]\n",
       "2    [1.1003200653149883]\n",
       "3    [1.1003200653149883]\n",
       "4    [1.1003200653149883]\n",
       "Name: mydate, dtype: object"
      ]
     },
     "execution_count": 233,
     "metadata": {},
     "output_type": "execute_result"
    }
   ],
   "source": [
    "mymean=numpy.mean(yyy)\n",
    "Xtt = test['mydate']\n",
    "infl=Xtt.apply(lambda xtt: inflation(xtt,inter,coef,mymean))\n",
    "infl[0:5]"
   ]
  },
  {
   "cell_type": "markdown",
   "metadata": {},
   "source": [
    "На эти \"коэффициенты инфляции\" мы и будем умножать предсказание, построенное с помощью деревьев."
   ]
  },
  {
   "cell_type": "code",
   "execution_count": 234,
   "metadata": {},
   "outputs": [
    {
     "data": {
      "text/plain": [
       "0     [4743143.534316049]\n",
       "1    [10293941.726329874]\n",
       "2     [3118120.874769084]\n",
       "3     [7761343.915932036]\n",
       "4    [1503343.6937012896]\n",
       "Name: mydate, dtype: object"
      ]
     },
     "execution_count": 234,
     "metadata": {},
     "output_type": "execute_result"
    }
   ],
   "source": [
    "Xt = test[COLUMNS].values\n",
    "preds1 =numpy.multiply(infl,gsBo9.predict(Xt))\n",
    "preds1[0:5]"
   ]
  },
  {
   "cell_type": "code",
   "execution_count": 236,
   "metadata": {},
   "outputs": [
    {
     "data": {
      "text/plain": [
       "1058063.7647858725"
      ]
     },
     "execution_count": 236,
     "metadata": {},
     "output_type": "execute_result"
    }
   ],
   "source": [
    "MAE(preds1,gsBo9.predict(Xt))"
   ]
  },
  {
   "cell_type": "markdown",
   "metadata": {},
   "source": [
    "Получилась средняя разница между предсказаниями с инфляцией и без неё. Попробуем сдать новый результат."
   ]
  },
  {
   "cell_type": "code",
   "execution_count": 237,
   "metadata": {},
   "outputs": [
    {
     "data": {
      "text/html": [
       "<div>\n",
       "<style scoped>\n",
       "    .dataframe tbody tr th:only-of-type {\n",
       "        vertical-align: middle;\n",
       "    }\n",
       "\n",
       "    .dataframe tbody tr th {\n",
       "        vertical-align: top;\n",
       "    }\n",
       "\n",
       "    .dataframe thead th {\n",
       "        text-align: right;\n",
       "    }\n",
       "</style>\n",
       "<table border=\"1\" class=\"dataframe\">\n",
       "  <thead>\n",
       "    <tr style=\"text-align: right;\">\n",
       "      <th></th>\n",
       "      <th>id</th>\n",
       "      <th>date</th>\n",
       "      <th>street_id</th>\n",
       "      <th>build_tech</th>\n",
       "      <th>floor</th>\n",
       "      <th>area</th>\n",
       "      <th>rooms</th>\n",
       "      <th>balcon</th>\n",
       "      <th>metro_dist</th>\n",
       "      <th>g_lift</th>\n",
       "      <th>...</th>\n",
       "      <th>kw6</th>\n",
       "      <th>kw7</th>\n",
       "      <th>kw8</th>\n",
       "      <th>kw9</th>\n",
       "      <th>kw10</th>\n",
       "      <th>kw11</th>\n",
       "      <th>kw12</th>\n",
       "      <th>kw13</th>\n",
       "      <th>mydate</th>\n",
       "      <th>price</th>\n",
       "    </tr>\n",
       "  </thead>\n",
       "  <tbody>\n",
       "    <tr>\n",
       "      <th>0</th>\n",
       "      <td>100000</td>\n",
       "      <td>2012-06-01</td>\n",
       "      <td>427</td>\n",
       "      <td>-1.0</td>\n",
       "      <td>9</td>\n",
       "      <td>60</td>\n",
       "      <td>3</td>\n",
       "      <td>1</td>\n",
       "      <td>30.0</td>\n",
       "      <td>0.0</td>\n",
       "      <td>...</td>\n",
       "      <td>0</td>\n",
       "      <td>0</td>\n",
       "      <td>0</td>\n",
       "      <td>0</td>\n",
       "      <td>0</td>\n",
       "      <td>0</td>\n",
       "      <td>0</td>\n",
       "      <td>0</td>\n",
       "      <td>546</td>\n",
       "      <td>4743143</td>\n",
       "    </tr>\n",
       "    <tr>\n",
       "      <th>1</th>\n",
       "      <td>100001</td>\n",
       "      <td>2012-06-01</td>\n",
       "      <td>593</td>\n",
       "      <td>1.0</td>\n",
       "      <td>7</td>\n",
       "      <td>52</td>\n",
       "      <td>2</td>\n",
       "      <td>1</td>\n",
       "      <td>20.0</td>\n",
       "      <td>0.0</td>\n",
       "      <td>...</td>\n",
       "      <td>0</td>\n",
       "      <td>0</td>\n",
       "      <td>0</td>\n",
       "      <td>0</td>\n",
       "      <td>0</td>\n",
       "      <td>0</td>\n",
       "      <td>0</td>\n",
       "      <td>0</td>\n",
       "      <td>546</td>\n",
       "      <td>10293941</td>\n",
       "    </tr>\n",
       "    <tr>\n",
       "      <th>2</th>\n",
       "      <td>100002</td>\n",
       "      <td>2012-06-01</td>\n",
       "      <td>91</td>\n",
       "      <td>0.0</td>\n",
       "      <td>4</td>\n",
       "      <td>58</td>\n",
       "      <td>3</td>\n",
       "      <td>0</td>\n",
       "      <td>30.0</td>\n",
       "      <td>-1.0</td>\n",
       "      <td>...</td>\n",
       "      <td>0</td>\n",
       "      <td>0</td>\n",
       "      <td>0</td>\n",
       "      <td>0</td>\n",
       "      <td>0</td>\n",
       "      <td>0</td>\n",
       "      <td>0</td>\n",
       "      <td>0</td>\n",
       "      <td>546</td>\n",
       "      <td>3118120</td>\n",
       "    </tr>\n",
       "  </tbody>\n",
       "</table>\n",
       "<p>3 rows × 26 columns</p>\n",
       "</div>"
      ],
      "text/plain": [
       "       id        date  street_id  build_tech  floor  area  rooms  balcon  \\\n",
       "0  100000  2012-06-01        427        -1.0      9    60      3       1   \n",
       "1  100001  2012-06-01        593         1.0      7    52      2       1   \n",
       "2  100002  2012-06-01         91         0.0      4    58      3       0   \n",
       "\n",
       "   metro_dist  g_lift    ...     kw6  kw7  kw8  kw9  kw10  kw11  kw12  kw13  \\\n",
       "0        30.0     0.0    ...       0    0    0    0     0     0     0     0   \n",
       "1        20.0     0.0    ...       0    0    0    0     0     0     0     0   \n",
       "2        30.0    -1.0    ...       0    0    0    0     0     0     0     0   \n",
       "\n",
       "   mydate     price  \n",
       "0     546   4743143  \n",
       "1     546  10293941  \n",
       "2     546   3118120  \n",
       "\n",
       "[3 rows x 26 columns]"
      ]
     },
     "execution_count": 237,
     "metadata": {},
     "output_type": "execute_result"
    }
   ],
   "source": [
    "test['price'] = list(map(int,preds1))\n",
    "test[['id', 'price']].to_csv('sub_Bo9+inf.csv', index=False)\n",
    "\n",
    "test.head(3)"
   ]
  },
  {
   "cell_type": "markdown",
   "metadata": {},
   "source": [
    "После сдачи этой попытки результат чуть-чуть улучшился, но всё ещё колеблется на 9,2*10^5. При том, что средняя разница между попытками 10^6. Если раньше мы недооценивали значения, то возможно сейчас уже переоцениваем. Совершим ещё одну попытку, впрочем наивную, чтобы это проверить - возьмём половину от инфляции. "
   ]
  },
  {
   "cell_type": "code",
   "execution_count": 238,
   "metadata": {},
   "outputs": [
    {
     "data": {
      "text/plain": [
       "529031.8823929365"
      ]
     },
     "execution_count": 238,
     "metadata": {},
     "output_type": "execute_result"
    }
   ],
   "source": [
    "Xt = test[COLUMNS].values\n",
    "preds1 =numpy.multiply(1+(infl-1)/2,gsBo9.predict(Xt))\n",
    "MAE(preds1,gsBo9.predict(Xt))"
   ]
  },
  {
   "cell_type": "code",
   "execution_count": 239,
   "metadata": {},
   "outputs": [
    {
     "data": {
      "text/html": [
       "<div>\n",
       "<style scoped>\n",
       "    .dataframe tbody tr th:only-of-type {\n",
       "        vertical-align: middle;\n",
       "    }\n",
       "\n",
       "    .dataframe tbody tr th {\n",
       "        vertical-align: top;\n",
       "    }\n",
       "\n",
       "    .dataframe thead th {\n",
       "        text-align: right;\n",
       "    }\n",
       "</style>\n",
       "<table border=\"1\" class=\"dataframe\">\n",
       "  <thead>\n",
       "    <tr style=\"text-align: right;\">\n",
       "      <th></th>\n",
       "      <th>id</th>\n",
       "      <th>date</th>\n",
       "      <th>street_id</th>\n",
       "      <th>build_tech</th>\n",
       "      <th>floor</th>\n",
       "      <th>area</th>\n",
       "      <th>rooms</th>\n",
       "      <th>balcon</th>\n",
       "      <th>metro_dist</th>\n",
       "      <th>g_lift</th>\n",
       "      <th>...</th>\n",
       "      <th>kw6</th>\n",
       "      <th>kw7</th>\n",
       "      <th>kw8</th>\n",
       "      <th>kw9</th>\n",
       "      <th>kw10</th>\n",
       "      <th>kw11</th>\n",
       "      <th>kw12</th>\n",
       "      <th>kw13</th>\n",
       "      <th>mydate</th>\n",
       "      <th>price</th>\n",
       "    </tr>\n",
       "  </thead>\n",
       "  <tbody>\n",
       "    <tr>\n",
       "      <th>0</th>\n",
       "      <td>100000</td>\n",
       "      <td>2012-06-01</td>\n",
       "      <td>427</td>\n",
       "      <td>-1.0</td>\n",
       "      <td>9</td>\n",
       "      <td>60</td>\n",
       "      <td>3</td>\n",
       "      <td>1</td>\n",
       "      <td>30.0</td>\n",
       "      <td>0.0</td>\n",
       "      <td>...</td>\n",
       "      <td>0</td>\n",
       "      <td>0</td>\n",
       "      <td>0</td>\n",
       "      <td>0</td>\n",
       "      <td>0</td>\n",
       "      <td>0</td>\n",
       "      <td>0</td>\n",
       "      <td>0</td>\n",
       "      <td>546</td>\n",
       "      <td>4526918</td>\n",
       "    </tr>\n",
       "    <tr>\n",
       "      <th>1</th>\n",
       "      <td>100001</td>\n",
       "      <td>2012-06-01</td>\n",
       "      <td>593</td>\n",
       "      <td>1.0</td>\n",
       "      <td>7</td>\n",
       "      <td>52</td>\n",
       "      <td>2</td>\n",
       "      <td>1</td>\n",
       "      <td>20.0</td>\n",
       "      <td>0.0</td>\n",
       "      <td>...</td>\n",
       "      <td>0</td>\n",
       "      <td>0</td>\n",
       "      <td>0</td>\n",
       "      <td>0</td>\n",
       "      <td>0</td>\n",
       "      <td>0</td>\n",
       "      <td>0</td>\n",
       "      <td>0</td>\n",
       "      <td>546</td>\n",
       "      <td>9824674</td>\n",
       "    </tr>\n",
       "    <tr>\n",
       "      <th>2</th>\n",
       "      <td>100002</td>\n",
       "      <td>2012-06-01</td>\n",
       "      <td>91</td>\n",
       "      <td>0.0</td>\n",
       "      <td>4</td>\n",
       "      <td>58</td>\n",
       "      <td>3</td>\n",
       "      <td>0</td>\n",
       "      <td>30.0</td>\n",
       "      <td>-1.0</td>\n",
       "      <td>...</td>\n",
       "      <td>0</td>\n",
       "      <td>0</td>\n",
       "      <td>0</td>\n",
       "      <td>0</td>\n",
       "      <td>0</td>\n",
       "      <td>0</td>\n",
       "      <td>0</td>\n",
       "      <td>0</td>\n",
       "      <td>546</td>\n",
       "      <td>2975975</td>\n",
       "    </tr>\n",
       "  </tbody>\n",
       "</table>\n",
       "<p>3 rows × 26 columns</p>\n",
       "</div>"
      ],
      "text/plain": [
       "       id        date  street_id  build_tech  floor  area  rooms  balcon  \\\n",
       "0  100000  2012-06-01        427        -1.0      9    60      3       1   \n",
       "1  100001  2012-06-01        593         1.0      7    52      2       1   \n",
       "2  100002  2012-06-01         91         0.0      4    58      3       0   \n",
       "\n",
       "   metro_dist  g_lift   ...     kw6  kw7  kw8  kw9  kw10  kw11  kw12  kw13  \\\n",
       "0        30.0     0.0   ...       0    0    0    0     0     0     0     0   \n",
       "1        20.0     0.0   ...       0    0    0    0     0     0     0     0   \n",
       "2        30.0    -1.0   ...       0    0    0    0     0     0     0     0   \n",
       "\n",
       "   mydate    price  \n",
       "0     546  4526918  \n",
       "1     546  9824674  \n",
       "2     546  2975975  \n",
       "\n",
       "[3 rows x 26 columns]"
      ]
     },
     "execution_count": 239,
     "metadata": {},
     "output_type": "execute_result"
    }
   ],
   "source": [
    "test['price'] = list(map(int,preds1))\n",
    "test[['id', 'price']].to_csv('sub_Bo9+halfinf.csv', index=False)\n",
    "\n",
    "test.head(3)"
   ]
  },
  {
   "cell_type": "markdown",
   "metadata": {},
   "source": [
    "Аххахах, какой нелепый путь к успеху! "
   ]
  },
  {
   "cell_type": "markdown",
   "metadata": {},
   "source": [
    "(перепрыгнул с 13-го места на 4-ое, вместо 9,2 на 10^5 стало 7,7 на 10^5)"
   ]
  },
  {
   "cell_type": "markdown",
   "metadata": {},
   "source": [
    "Осталась одна попытка и нет времени придумывать что-то интеллектуальное.\n",
    "Поэтому просто ради юмора:"
   ]
  },
  {
   "cell_type": "code",
   "execution_count": 242,
   "metadata": {},
   "outputs": [
    {
     "data": {
      "text/plain": [
       "558334.263217034"
      ]
     },
     "execution_count": 242,
     "metadata": {},
     "output_type": "execute_result"
    }
   ],
   "source": [
    "Xt = test[COLUMNS].values\n",
    "preds1 =numpy.multiply(1+(infl-infl[0]),gsBo9.predict(Xt))\n",
    "MAE(preds1,gsBo9.predict(Xt))"
   ]
  },
  {
   "cell_type": "code",
   "execution_count": 243,
   "metadata": {},
   "outputs": [
    {
     "data": {
      "text/html": [
       "<div>\n",
       "<style scoped>\n",
       "    .dataframe tbody tr th:only-of-type {\n",
       "        vertical-align: middle;\n",
       "    }\n",
       "\n",
       "    .dataframe tbody tr th {\n",
       "        vertical-align: top;\n",
       "    }\n",
       "\n",
       "    .dataframe thead th {\n",
       "        text-align: right;\n",
       "    }\n",
       "</style>\n",
       "<table border=\"1\" class=\"dataframe\">\n",
       "  <thead>\n",
       "    <tr style=\"text-align: right;\">\n",
       "      <th></th>\n",
       "      <th>id</th>\n",
       "      <th>date</th>\n",
       "      <th>street_id</th>\n",
       "      <th>build_tech</th>\n",
       "      <th>floor</th>\n",
       "      <th>area</th>\n",
       "      <th>rooms</th>\n",
       "      <th>balcon</th>\n",
       "      <th>metro_dist</th>\n",
       "      <th>g_lift</th>\n",
       "      <th>...</th>\n",
       "      <th>kw6</th>\n",
       "      <th>kw7</th>\n",
       "      <th>kw8</th>\n",
       "      <th>kw9</th>\n",
       "      <th>kw10</th>\n",
       "      <th>kw11</th>\n",
       "      <th>kw12</th>\n",
       "      <th>kw13</th>\n",
       "      <th>mydate</th>\n",
       "      <th>price</th>\n",
       "    </tr>\n",
       "  </thead>\n",
       "  <tbody>\n",
       "    <tr>\n",
       "      <th>0</th>\n",
       "      <td>100000</td>\n",
       "      <td>2012-06-01</td>\n",
       "      <td>427</td>\n",
       "      <td>-1.0</td>\n",
       "      <td>9</td>\n",
       "      <td>60</td>\n",
       "      <td>3</td>\n",
       "      <td>1</td>\n",
       "      <td>30.0</td>\n",
       "      <td>0.0</td>\n",
       "      <td>...</td>\n",
       "      <td>0</td>\n",
       "      <td>0</td>\n",
       "      <td>0</td>\n",
       "      <td>0</td>\n",
       "      <td>0</td>\n",
       "      <td>0</td>\n",
       "      <td>0</td>\n",
       "      <td>0</td>\n",
       "      <td>546</td>\n",
       "      <td>4310694</td>\n",
       "    </tr>\n",
       "    <tr>\n",
       "      <th>1</th>\n",
       "      <td>100001</td>\n",
       "      <td>2012-06-01</td>\n",
       "      <td>593</td>\n",
       "      <td>1.0</td>\n",
       "      <td>7</td>\n",
       "      <td>52</td>\n",
       "      <td>2</td>\n",
       "      <td>1</td>\n",
       "      <td>20.0</td>\n",
       "      <td>0.0</td>\n",
       "      <td>...</td>\n",
       "      <td>0</td>\n",
       "      <td>0</td>\n",
       "      <td>0</td>\n",
       "      <td>0</td>\n",
       "      <td>0</td>\n",
       "      <td>0</td>\n",
       "      <td>0</td>\n",
       "      <td>0</td>\n",
       "      <td>546</td>\n",
       "      <td>9355406</td>\n",
       "    </tr>\n",
       "    <tr>\n",
       "      <th>2</th>\n",
       "      <td>100002</td>\n",
       "      <td>2012-06-01</td>\n",
       "      <td>91</td>\n",
       "      <td>0.0</td>\n",
       "      <td>4</td>\n",
       "      <td>58</td>\n",
       "      <td>3</td>\n",
       "      <td>0</td>\n",
       "      <td>30.0</td>\n",
       "      <td>-1.0</td>\n",
       "      <td>...</td>\n",
       "      <td>0</td>\n",
       "      <td>0</td>\n",
       "      <td>0</td>\n",
       "      <td>0</td>\n",
       "      <td>0</td>\n",
       "      <td>0</td>\n",
       "      <td>0</td>\n",
       "      <td>0</td>\n",
       "      <td>546</td>\n",
       "      <td>2833830</td>\n",
       "    </tr>\n",
       "  </tbody>\n",
       "</table>\n",
       "<p>3 rows × 26 columns</p>\n",
       "</div>"
      ],
      "text/plain": [
       "       id        date  street_id  build_tech  floor  area  rooms  balcon  \\\n",
       "0  100000  2012-06-01        427        -1.0      9    60      3       1   \n",
       "1  100001  2012-06-01        593         1.0      7    52      2       1   \n",
       "2  100002  2012-06-01         91         0.0      4    58      3       0   \n",
       "\n",
       "   metro_dist  g_lift   ...     kw6  kw7  kw8  kw9  kw10  kw11  kw12  kw13  \\\n",
       "0        30.0     0.0   ...       0    0    0    0     0     0     0     0   \n",
       "1        20.0     0.0   ...       0    0    0    0     0     0     0     0   \n",
       "2        30.0    -1.0   ...       0    0    0    0     0     0     0     0   \n",
       "\n",
       "   mydate    price  \n",
       "0     546  4310694  \n",
       "1     546  9355406  \n",
       "2     546  2833830  \n",
       "\n",
       "[3 rows x 26 columns]"
      ]
     },
     "execution_count": 243,
     "metadata": {},
     "output_type": "execute_result"
    }
   ],
   "source": [
    "test['price'] = list(map(int,preds1))\n",
    "test[['id', 'price']].to_csv('sub_Bo9+afterinf.csv', index=False)\n",
    "\n",
    "test.head(3)"
   ]
  },
  {
   "cell_type": "code",
   "execution_count": null,
   "metadata": {},
   "outputs": [],
   "source": []
  }
 ],
 "metadata": {
  "kernelspec": {
   "display_name": "Python 3",
   "language": "python",
   "name": "python3"
  }
 },
 "nbformat": 4,
 "nbformat_minor": 2
}
